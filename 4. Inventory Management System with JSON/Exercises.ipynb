{
 "cells": [
  {
   "cell_type": "code",
   "execution_count": null,
   "id": "0726cafc",
   "metadata": {},
   "outputs": [],
   "source": [
    "#Q1\n",
    "\n",
    "import pandas as pd\n",
    "d = {'apple': 1, 'peach': 6, 'watermelon': 4, 'grapes': 5, 'orange': 2,'banana': 3}\n",
    "df = pd.DataFrame({'fruits':['apple','melon','strawberry','peach','watermelon','grapes','orange','banana']})\n",
    "\n",
    "# I want to create a DF, fruits (1st column), Number available (dict)\n",
    "\n",
    "\n",
    "\n",
    "# Name Qty\n",
    "# apple 1\n",
    "# peach 6"
   ]
  },
  {
   "cell_type": "code",
   "execution_count": null,
   "id": "45bac300",
   "metadata": {},
   "outputs": [],
   "source": [
    "d.values()"
   ]
  },
  {
   "cell_type": "code",
   "execution_count": null,
   "id": "fb4ff546",
   "metadata": {},
   "outputs": [],
   "source": [
    "df1 = pd.DataFrame({'fruits': df['fruits'],'total':d})\n",
    "df1"
   ]
  },
  {
   "cell_type": "code",
   "execution_count": null,
   "id": "6623e912",
   "metadata": {},
   "outputs": [],
   "source": [
    "val = d.values()\n",
    "\n",
    "df1=pd.DataFrame({'fruits':['apple','melon','strawberry','peach','wtermelon','grapes','orange','banana'],'QTY': val})\n"
   ]
  },
  {
   "cell_type": "code",
   "execution_count": null,
   "id": "7fe180f7",
   "metadata": {
    "scrolled": true
   },
   "outputs": [],
   "source": [
    "values = d.values()\n",
    "new_dataframe = df.assign(Values = values)\n",
    "new_dataframe"
   ]
  },
  {
   "cell_type": "code",
   "execution_count": null,
   "id": "4a64c171",
   "metadata": {},
   "outputs": [],
   "source": [
    "d3=pd.DataFrame([d])\n",
    "d3"
   ]
  },
  {
   "cell_type": "code",
   "execution_count": null,
   "id": "a4ce2b5d",
   "metadata": {},
   "outputs": [],
   "source": [
    "df.update(d3)\n"
   ]
  },
  {
   "cell_type": "code",
   "execution_count": null,
   "id": "b18083af",
   "metadata": {},
   "outputs": [],
   "source": [
    "df"
   ]
  },
  {
   "cell_type": "code",
   "execution_count": null,
   "id": "a40ab8a4",
   "metadata": {},
   "outputs": [],
   "source": []
  },
  {
   "cell_type": "code",
   "execution_count": 14,
   "id": "8b744ce9",
   "metadata": {},
   "outputs": [],
   "source": [
    "import pandas as pd\n",
    "d = {'apple': 1, 'peach': 6, 'watermelon': 4, 'grapes': 5, 'orange': 2,'banana': 3}\n",
    "df = pd.DataFrame({'fruits':['apple','melon','strawberry','peach','watermelon','grapes','orange','banana']})\n",
    "\n",
    "\n",
    "## I need to extract the value from dict d\n",
    "## Comparison - check the fruit column then add the value accordingly. \n",
    "    ## If new fruit then add missing value ('missing')"
   ]
  },
  {
   "cell_type": "code",
   "execution_count": null,
   "id": "6cf9a508",
   "metadata": {},
   "outputs": [],
   "source": [
    "df['Value'] = df['fruits'].map(d)\n",
    "df"
   ]
  },
  {
   "cell_type": "code",
   "execution_count": 16,
   "id": "d4f6daef",
   "metadata": {},
   "outputs": [
    {
     "name": "stdout",
     "output_type": "stream",
     "text": [
      "1\n",
      "missing\n",
      "missing\n",
      "6\n",
      "4\n",
      "5\n",
      "2\n",
      "3\n"
     ]
    }
   ],
   "source": [
    "col = []\n",
    "for fruit in df['fruits']:\n",
    "    if fruit in d:\n",
    "        print(d[fruit])\n",
    "        col.append(d[fruit])\n",
    "    else:\n",
    "        print('missing')\n",
    "        col.append('missing')"
   ]
  },
  {
   "cell_type": "code",
   "execution_count": 17,
   "id": "66cefbd1",
   "metadata": {},
   "outputs": [
    {
     "data": {
      "text/plain": [
       "[1, 'missing', 'missing', 6, 4, 5, 2, 3]"
      ]
     },
     "execution_count": 17,
     "metadata": {},
     "output_type": "execute_result"
    }
   ],
   "source": [
    "col"
   ]
  },
  {
   "cell_type": "code",
   "execution_count": 18,
   "id": "f4c91c91",
   "metadata": {},
   "outputs": [],
   "source": [
    "df['Values'] = col"
   ]
  },
  {
   "cell_type": "code",
   "execution_count": 19,
   "id": "b312c25c",
   "metadata": {},
   "outputs": [
    {
     "data": {
      "text/html": [
       "<div>\n",
       "<style scoped>\n",
       "    .dataframe tbody tr th:only-of-type {\n",
       "        vertical-align: middle;\n",
       "    }\n",
       "\n",
       "    .dataframe tbody tr th {\n",
       "        vertical-align: top;\n",
       "    }\n",
       "\n",
       "    .dataframe thead th {\n",
       "        text-align: right;\n",
       "    }\n",
       "</style>\n",
       "<table border=\"1\" class=\"dataframe\">\n",
       "  <thead>\n",
       "    <tr style=\"text-align: right;\">\n",
       "      <th></th>\n",
       "      <th>fruits</th>\n",
       "      <th>Values</th>\n",
       "    </tr>\n",
       "  </thead>\n",
       "  <tbody>\n",
       "    <tr>\n",
       "      <th>0</th>\n",
       "      <td>apple</td>\n",
       "      <td>1</td>\n",
       "    </tr>\n",
       "    <tr>\n",
       "      <th>1</th>\n",
       "      <td>melon</td>\n",
       "      <td>missing</td>\n",
       "    </tr>\n",
       "    <tr>\n",
       "      <th>2</th>\n",
       "      <td>strawberry</td>\n",
       "      <td>missing</td>\n",
       "    </tr>\n",
       "    <tr>\n",
       "      <th>3</th>\n",
       "      <td>peach</td>\n",
       "      <td>6</td>\n",
       "    </tr>\n",
       "    <tr>\n",
       "      <th>4</th>\n",
       "      <td>watermelon</td>\n",
       "      <td>4</td>\n",
       "    </tr>\n",
       "    <tr>\n",
       "      <th>5</th>\n",
       "      <td>grapes</td>\n",
       "      <td>5</td>\n",
       "    </tr>\n",
       "    <tr>\n",
       "      <th>6</th>\n",
       "      <td>orange</td>\n",
       "      <td>2</td>\n",
       "    </tr>\n",
       "    <tr>\n",
       "      <th>7</th>\n",
       "      <td>banana</td>\n",
       "      <td>3</td>\n",
       "    </tr>\n",
       "  </tbody>\n",
       "</table>\n",
       "</div>"
      ],
      "text/plain": [
       "       fruits   Values\n",
       "0       apple        1\n",
       "1       melon  missing\n",
       "2  strawberry  missing\n",
       "3       peach        6\n",
       "4  watermelon        4\n",
       "5      grapes        5\n",
       "6      orange        2\n",
       "7      banana        3"
      ]
     },
     "execution_count": 19,
     "metadata": {},
     "output_type": "execute_result"
    }
   ],
   "source": [
    "df"
   ]
  },
  {
   "cell_type": "code",
   "execution_count": null,
   "id": "b705d0a2",
   "metadata": {},
   "outputs": [],
   "source": [
    "for fruit in df\n",
    "d.values()"
   ]
  },
  {
   "cell_type": "code",
   "execution_count": 20,
   "id": "48c1d159",
   "metadata": {},
   "outputs": [
    {
     "data": {
      "text/plain": [
       "pandas.core.frame.DataFrame"
      ]
     },
     "execution_count": 20,
     "metadata": {},
     "output_type": "execute_result"
    }
   ],
   "source": [
    "type(df)"
   ]
  }
 ],
 "metadata": {
  "kernelspec": {
   "display_name": "Python 3.7.7 ('myenv')",
   "language": "python",
   "name": "python3"
  },
  "language_info": {
   "codemirror_mode": {
    "name": "ipython",
    "version": 3
   },
   "file_extension": ".py",
   "mimetype": "text/x-python",
   "name": "python",
   "nbconvert_exporter": "python",
   "pygments_lexer": "ipython3",
   "version": "3.7.7"
  },
  "vscode": {
   "interpreter": {
    "hash": "8498851fdb8f20aac0be0c513133504d41018d140b7992e21b4a91b7f62ead50"
   }
  }
 },
 "nbformat": 4,
 "nbformat_minor": 5
}
