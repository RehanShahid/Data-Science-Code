{
 "cells": [
  {
   "cell_type": "code",
   "execution_count": 1,
   "metadata": {},
   "outputs": [],
   "source": [
    "import json\n",
    "\n",
    "fd = open('Record.json','r')\n",
    "js = fd.read()\n",
    "fd.close()\n",
    "\n",
    "record = json.loads(js)\n",
    "\n"
   ]
  },
  {
   "cell_type": "code",
   "execution_count": 2,
   "metadata": {},
   "outputs": [
    {
     "data": {
      "text/plain": [
       "{'1005': {'Price': 650, 'Name': 'Blueberry Cake', 'Qn': 10},\n",
       " '1004': {'Price': 550, 'Name': 'Chocolate Cake', 'Qn': 8},\n",
       " '1003': {'Price': 2, 'Name': 'Candy', 'Qn': 500},\n",
       " '1002': {'Price': 20, 'Name': 'Bar-One', 'Qn': 10},\n",
       " '1001': {'Price': 10, 'Name': '5 Star', 'Qn': 145}}"
      ]
     },
     "execution_count": 2,
     "metadata": {},
     "output_type": "execute_result"
    }
   ],
   "source": [
    "record"
   ]
  },
  {
   "cell_type": "code",
   "execution_count": 3,
   "metadata": {},
   "outputs": [
    {
     "name": "stdout",
     "output_type": "stream",
     "text": [
      "--------------------MENU---------------------\n",
      "1005 Blueberry Cake 650 10\n",
      "1004 Chocolate Cake 550 8\n",
      "1003 Candy 2 500\n",
      "1002 Bar-One 20 10\n",
      "1001 5 Star 10 145\n",
      "---------------------------------------------\n",
      "\n",
      "---------------------------------------------\n",
      "\n",
      "Name      :  Chocolate Cake\n",
      "Price (Rs):  550\n",
      "Quantity  :  6\n",
      "---------------------------------------------\n",
      "Billing   :  3300 Rs\n",
      "---------------------------------------------\n",
      "\n",
      "---------------------------------------------\n",
      "  Thanks for your order, Inventory Updated!  \n",
      "---------------------------------------------\n"
     ]
    }
   ],
   "source": [
    "print(\"--------------------MENU---------------------\")\n",
    "for key in record.keys():\n",
    "    print(key, record[key]['Name'], record[key]['Price'], record[key]['Qn'])\n",
    "print(\"---------------------------------------------\")\n",
    "print('')\n",
    "\n",
    "ui_pr = str(input(\"Enter product ID : \"))\n",
    "ui_qn = int(input(\"Enter Quantiry   : \"))\n",
    "\n",
    "print(\"---------------------------------------------\")\n",
    "print('')\n",
    "\n",
    "print(\"Name      : \", record[ui_pr][\"Name\"])\n",
    "print(\"Price (Rs): \", record[ui_pr][\"Price\"])\n",
    "print(\"Quantity  : \", ui_qn)\n",
    "print(\"---------------------------------------------\")\n",
    "print(\"Billing   : \", ui_qn * record[ui_pr][\"Price\"], \"Rs\")\n",
    "print(\"---------------------------------------------\")\n",
    "\n",
    "record[ui_pr]['Qn'] = record[ui_pr]['Qn'] - ui_qn\n",
    "\n",
    "js = json.dumps(record)\n",
    "\n",
    "fd = open('Record.json','w')\n",
    "fd.write(js)\n",
    "fd.close()\n",
    "\n",
    "print('')\n",
    "print(\"---------------------------------------------\")\n",
    "print(\"  Thanks for your order, Inventory Updated!  \")\n",
    "print(\"---------------------------------------------\")"
   ]
  },
  {
   "cell_type": "code",
   "execution_count": null,
   "metadata": {},
   "outputs": [],
   "source": []
  }
 ],
 "metadata": {
  "kernelspec": {
   "display_name": "Python 3.7.7 ('myenv')",
   "language": "python",
   "name": "python3"
  },
  "language_info": {
   "codemirror_mode": {
    "name": "ipython",
    "version": 3
   },
   "file_extension": ".py",
   "mimetype": "text/x-python",
   "name": "python",
   "nbconvert_exporter": "python",
   "pygments_lexer": "ipython3",
   "version": "3.7.7"
  },
  "vscode": {
   "interpreter": {
    "hash": "8498851fdb8f20aac0be0c513133504d41018d140b7992e21b4a91b7f62ead50"
   }
  }
 },
 "nbformat": 4,
 "nbformat_minor": 2
}
