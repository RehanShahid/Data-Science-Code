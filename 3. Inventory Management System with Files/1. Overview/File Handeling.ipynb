{
 "cells": [
  {
   "cell_type": "markdown",
   "id": "ec9e499e",
   "metadata": {},
   "source": [
    "`File Handeling`\n",
    "\n",
    "* Python too supports file handling and allows users to handle files i.e., to read and write files, along with many other file handling options, to operate on files. \n",
    "* The concept of file handling has stretched over various other languages, but the implementation is either complicated or lengthy, but like other concepts of Python, this concept here is also easy and short. \n",
    "* Each line of code includes a sequence of characters and they form text file. \n",
    "* Each line of a file is terminated with a special character, called the EOL or End of Line characters like comma {,} or newline character."
   ]
  },
  {
   "cell_type": "markdown",
   "id": "6c48fc97",
   "metadata": {},
   "source": [
    "#### Open() function\n",
    "`f = open(filename, mode)`"
   ]
  },
  {
   "cell_type": "markdown",
   "id": "fec2874f",
   "metadata": {},
   "source": [
    "`Different supported modes`\n",
    "\n",
    "1. r: open an existing file for a read operation.\n",
    "2. w: open an existing file / create the new file with name for a write operation. If the file already contains some data then it will be overridden.\n",
    "3. a:  open an existing file for append operation. It won’t override existing data.\n",
    "4. r+:  To read and write data into the file. The previous data in the file will not be deleted.\n",
    "5. w+: To write and read data. It will override existing data.\n",
    "6. a+: To append and read data from the file. It won’t override existing data."
   ]
  },
  {
   "cell_type": "code",
   "execution_count": null,
   "id": "ad48b017",
   "metadata": {},
   "outputs": [],
   "source": []
  },
  {
   "cell_type": "code",
   "execution_count": null,
   "id": "cbb900b7",
   "metadata": {},
   "outputs": [],
   "source": []
  },
  {
   "cell_type": "code",
   "execution_count": null,
   "id": "6e73ee80",
   "metadata": {},
   "outputs": [],
   "source": []
  },
  {
   "cell_type": "code",
   "execution_count": null,
   "id": "e37ec679",
   "metadata": {},
   "outputs": [],
   "source": []
  },
  {
   "cell_type": "code",
   "execution_count": null,
   "id": "77b5dd48",
   "metadata": {},
   "outputs": [],
   "source": []
  },
  {
   "cell_type": "code",
   "execution_count": null,
   "id": "c63d2ad0",
   "metadata": {},
   "outputs": [],
   "source": []
  },
  {
   "cell_type": "code",
   "execution_count": 6,
   "id": "94e2095c",
   "metadata": {},
   "outputs": [
    {
     "name": "stdout",
     "output_type": "stream",
     "text": [
      "This is the write command\n",
      "\n",
      "It allows us to write in a particular file\n",
      "\n",
      "This will add this line\n",
      "3\n"
     ]
    }
   ],
   "source": [
    "# a file named \"geek\", will be opened with the reading mode.\n",
    "\n",
    "file = open(\"gfg.txt\", 'r')\n",
    "count = 0\n",
    "# This will print every line one by one in the file\n",
    "for each in file:\n",
    "    print (each)\n",
    "    count = count + 1\n",
    "print(count)\n"
   ]
  },
  {
   "cell_type": "code",
   "execution_count": null,
   "id": "2e8bfd4b",
   "metadata": {},
   "outputs": [],
   "source": []
  },
  {
   "cell_type": "code",
   "execution_count": null,
   "id": "26ded846",
   "metadata": {},
   "outputs": [],
   "source": []
  },
  {
   "cell_type": "code",
   "execution_count": null,
   "id": "42cc8e27",
   "metadata": {},
   "outputs": [],
   "source": []
  },
  {
   "cell_type": "code",
   "execution_count": null,
   "id": "4ed71943",
   "metadata": {},
   "outputs": [],
   "source": []
  },
  {
   "cell_type": "code",
   "execution_count": null,
   "id": "2fe11f4a",
   "metadata": {},
   "outputs": [],
   "source": []
  },
  {
   "cell_type": "code",
   "execution_count": null,
   "id": "60e94c70",
   "metadata": {},
   "outputs": [],
   "source": []
  },
  {
   "cell_type": "code",
   "execution_count": null,
   "id": "7090b46a",
   "metadata": {},
   "outputs": [],
   "source": []
  },
  {
   "cell_type": "code",
   "execution_count": 2,
   "id": "5ebaebd8",
   "metadata": {},
   "outputs": [
    {
     "name": "stdout",
     "output_type": "stream",
     "text": [
      "This is the write commandIt allows us to write in a particular fileThis will add this line\n"
     ]
    }
   ],
   "source": [
    "## Working of read() mode\n",
    "\n",
    "file = open(\"gfg.txt\", \"r\")\n",
    "print (file.read())"
   ]
  },
  {
   "cell_type": "code",
   "execution_count": null,
   "id": "9700b888",
   "metadata": {},
   "outputs": [],
   "source": []
  },
  {
   "cell_type": "code",
   "execution_count": null,
   "id": "d714be2f",
   "metadata": {},
   "outputs": [],
   "source": []
  },
  {
   "cell_type": "code",
   "execution_count": null,
   "id": "26824453",
   "metadata": {},
   "outputs": [],
   "source": []
  },
  {
   "cell_type": "code",
   "execution_count": null,
   "id": "08a4de44",
   "metadata": {},
   "outputs": [],
   "source": []
  },
  {
   "cell_type": "code",
   "execution_count": null,
   "id": "f9e8ab37",
   "metadata": {},
   "outputs": [],
   "source": []
  },
  {
   "cell_type": "code",
   "execution_count": null,
   "id": "0e46b433",
   "metadata": {},
   "outputs": [],
   "source": []
  },
  {
   "cell_type": "code",
   "execution_count": 3,
   "id": "f6d774d0",
   "metadata": {},
   "outputs": [
    {
     "name": "stdout",
     "output_type": "stream",
     "text": [
      "This is\n"
     ]
    }
   ],
   "source": [
    "# Python code to illustrate read() mode character wise\n",
    "# read the first seven characters of stored data\n",
    "\n",
    "file = open(\"gfg.txt\", \"r\")\n",
    "print (file.read(7))"
   ]
  },
  {
   "cell_type": "code",
   "execution_count": null,
   "id": "71e97ef5",
   "metadata": {},
   "outputs": [],
   "source": []
  },
  {
   "cell_type": "code",
   "execution_count": null,
   "id": "15abc3ff",
   "metadata": {},
   "outputs": [],
   "source": []
  },
  {
   "cell_type": "code",
   "execution_count": null,
   "id": "bed33b55",
   "metadata": {},
   "outputs": [],
   "source": []
  },
  {
   "cell_type": "code",
   "execution_count": null,
   "id": "5934d47e",
   "metadata": {},
   "outputs": [],
   "source": []
  },
  {
   "cell_type": "code",
   "execution_count": null,
   "id": "bc1b2b1f",
   "metadata": {},
   "outputs": [],
   "source": []
  },
  {
   "cell_type": "code",
   "execution_count": null,
   "id": "2079b406",
   "metadata": {},
   "outputs": [],
   "source": []
  },
  {
   "cell_type": "code",
   "execution_count": 7,
   "id": "57b484ac",
   "metadata": {},
   "outputs": [],
   "source": [
    "## Creating a file using write() mode\n",
    "\n",
    "file = open('gfg.txt','w')\n",
    "file.write(\"This is the write command\")\n",
    "file.write(\"It allows us to write in a particular file\")\n",
    "file.close()"
   ]
  },
  {
   "cell_type": "markdown",
   "id": "949e8072",
   "metadata": {},
   "source": [
    "* The close() command terminates all the resources in use and frees the system of this particular program. "
   ]
  },
  {
   "cell_type": "code",
   "execution_count": null,
   "id": "bb03c87f",
   "metadata": {},
   "outputs": [],
   "source": []
  },
  {
   "cell_type": "code",
   "execution_count": null,
   "id": "58954faf",
   "metadata": {},
   "outputs": [],
   "source": []
  },
  {
   "cell_type": "code",
   "execution_count": null,
   "id": "20a15cd0",
   "metadata": {},
   "outputs": [],
   "source": []
  },
  {
   "cell_type": "code",
   "execution_count": null,
   "id": "e2f96859",
   "metadata": {},
   "outputs": [],
   "source": []
  },
  {
   "cell_type": "code",
   "execution_count": 8,
   "id": "03448c36",
   "metadata": {},
   "outputs": [],
   "source": [
    "## Working of append() mode\n",
    "\n",
    "file = open('gfg.txt','a')\n",
    "file.write(\"This will add this line\")\n",
    "file.close()"
   ]
  },
  {
   "cell_type": "code",
   "execution_count": null,
   "id": "98cc19c3",
   "metadata": {},
   "outputs": [],
   "source": []
  },
  {
   "cell_type": "code",
   "execution_count": null,
   "id": "d26dd054",
   "metadata": {},
   "outputs": [],
   "source": []
  },
  {
   "cell_type": "code",
   "execution_count": null,
   "id": "424b8aae",
   "metadata": {},
   "outputs": [],
   "source": []
  },
  {
   "cell_type": "code",
   "execution_count": null,
   "id": "f4155949",
   "metadata": {},
   "outputs": [],
   "source": []
  },
  {
   "cell_type": "code",
   "execution_count": null,
   "id": "77885fa8",
   "metadata": {},
   "outputs": [],
   "source": []
  },
  {
   "cell_type": "code",
   "execution_count": null,
   "id": "3b8ff297",
   "metadata": {},
   "outputs": [],
   "source": []
  },
  {
   "cell_type": "code",
   "execution_count": null,
   "id": "2ec45ee2",
   "metadata": {},
   "outputs": [],
   "source": []
  },
  {
   "cell_type": "markdown",
   "id": "54aa388d",
   "metadata": {},
   "source": [
    "* Certain other commands to handle file\n",
    "\n",
    "`rstrip() & lstrip()`\n",
    "\n",
    "* rstrip(): This function strips each line of a file off spaces from the right-hand side.\n",
    "* lstrip(): This function strips each line of a file off spaces from the left-hand side."
   ]
  },
  {
   "cell_type": "code",
   "execution_count": 9,
   "id": "24368291",
   "metadata": {},
   "outputs": [
    {
     "ename": "NameError",
     "evalue": "name 'filename' is not defined",
     "output_type": "error",
     "traceback": [
      "\u001b[0;31m---------------------------------------------------------------------------\u001b[0m",
      "\u001b[0;31mNameError\u001b[0m                                 Traceback (most recent call last)",
      "\u001b[0;32m<ipython-input-9-6eb28dab1926>\u001b[0m in \u001b[0;36m<module>\u001b[0;34m\u001b[0m\n\u001b[0;32m----> 1\u001b[0;31m \u001b[0mfile\u001b[0m \u001b[0;34m=\u001b[0m \u001b[0mopen\u001b[0m\u001b[0;34m(\u001b[0m\u001b[0mfilename\u001b[0m\u001b[0;34m,\u001b[0m \u001b[0mmode\u001b[0m\u001b[0;34m)\u001b[0m\u001b[0;34m\u001b[0m\u001b[0;34m\u001b[0m\u001b[0m\n\u001b[0m\u001b[1;32m      2\u001b[0m \u001b[0;34m\u001b[0m\u001b[0m\n\u001b[1;32m      3\u001b[0m \u001b[0;32mwith\u001b[0m \u001b[0mopen\u001b[0m\u001b[0;34m(\u001b[0m\u001b[0mfilename\u001b[0m\u001b[0;34m,\u001b[0m \u001b[0mmode\u001b[0m\u001b[0;34m)\u001b[0m \u001b[0;32mas\u001b[0m \u001b[0mfile\u001b[0m\u001b[0;34m:\u001b[0m\u001b[0;34m\u001b[0m\u001b[0;34m\u001b[0m\u001b[0m\n\u001b[1;32m      4\u001b[0m     \u001b[0mdata\u001b[0m \u001b[0;34m=\u001b[0m \u001b[0mfile\u001b[0m\u001b[0;34m.\u001b[0m\u001b[0mread\u001b[0m\u001b[0;34m(\u001b[0m\u001b[0;34m)\u001b[0m\u001b[0;34m\u001b[0m\u001b[0;34m\u001b[0m\u001b[0m\n\u001b[1;32m      5\u001b[0m \u001b[0;34m\u001b[0m\u001b[0m\n",
      "\u001b[0;31mNameError\u001b[0m: name 'filename' is not defined"
     ]
    }
   ],
   "source": [
    "file = open(filename, mode)\n",
    "\n",
    "with open(filename, mode) as file:\n",
    "    data = file.read()\n",
    "    "
   ]
  },
  {
   "cell_type": "code",
   "execution_count": 10,
   "id": "a74108c3",
   "metadata": {},
   "outputs": [
    {
     "data": {
      "text/plain": [
       "'Hello, How are you. \\nI am doing good.\\nI hope you are fine too. '"
      ]
     },
     "execution_count": 10,
     "metadata": {},
     "output_type": "execute_result"
    }
   ],
   "source": [
    "# Python code to illustrate with()\n",
    "## Another way of opening a file\n",
    "\n",
    "with open(\"file.txt\") as file: \n",
    "    data = file.read()\n",
    "# do something with data\n",
    "\n",
    "data"
   ]
  },
  {
   "cell_type": "code",
   "execution_count": 11,
   "id": "e7ef8018",
   "metadata": {},
   "outputs": [
    {
     "data": {
      "text/plain": [
       "'Hello, How are you. \\nI am doing good.\\nI hope you are fine too.'"
      ]
     },
     "execution_count": 11,
     "metadata": {},
     "output_type": "execute_result"
    }
   ],
   "source": [
    "data.rstrip()"
   ]
  },
  {
   "cell_type": "code",
   "execution_count": null,
   "id": "97756d64",
   "metadata": {},
   "outputs": [],
   "source": []
  },
  {
   "cell_type": "code",
   "execution_count": null,
   "id": "9b0ff19d",
   "metadata": {},
   "outputs": [],
   "source": []
  },
  {
   "cell_type": "code",
   "execution_count": null,
   "id": "e58ad86a",
   "metadata": {},
   "outputs": [],
   "source": []
  },
  {
   "cell_type": "code",
   "execution_count": 12,
   "id": "efb8a7c1",
   "metadata": {},
   "outputs": [],
   "source": [
    "# Using write along with the with() function\n",
    "\n",
    "with open(\"file.txt\", \"w\") as f:\n",
    "    f.write(\"Hello, How are you. \")"
   ]
  },
  {
   "cell_type": "code",
   "execution_count": null,
   "id": "695cdb73",
   "metadata": {},
   "outputs": [],
   "source": [
    "d"
   ]
  },
  {
   "cell_type": "code",
   "execution_count": null,
   "id": "08c7ca89",
   "metadata": {},
   "outputs": [],
   "source": []
  },
  {
   "cell_type": "code",
   "execution_count": 13,
   "id": "3d6b72f0",
   "metadata": {},
   "outputs": [
    {
     "data": {
      "text/plain": [
       "\" hello.' hey '\""
      ]
     },
     "execution_count": 13,
     "metadata": {},
     "output_type": "execute_result"
    }
   ],
   "source": [
    "text = \" hello.' hey ' \"\n",
    "text.rstrip()"
   ]
  },
  {
   "cell_type": "code",
   "execution_count": null,
   "id": "53f96f2a",
   "metadata": {},
   "outputs": [],
   "source": []
  },
  {
   "cell_type": "code",
   "execution_count": null,
   "id": "57c01403",
   "metadata": {},
   "outputs": [],
   "source": []
  },
  {
   "cell_type": "code",
   "execution_count": null,
   "id": "21e6472e",
   "metadata": {},
   "outputs": [],
   "source": []
  },
  {
   "cell_type": "code",
   "execution_count": null,
   "id": "ba672c96",
   "metadata": {},
   "outputs": [],
   "source": []
  },
  {
   "cell_type": "markdown",
   "id": "c7d14144",
   "metadata": {},
   "source": [
    "`split()`\n",
    "* We can also split lines using file handling in Python. \n",
    "* This splits the variable when space is encountered."
   ]
  },
  {
   "cell_type": "code",
   "execution_count": 17,
   "id": "bce508e5",
   "metadata": {},
   "outputs": [
    {
     "data": {
      "text/plain": [
       "['Hello, How are you.     ']"
      ]
     },
     "execution_count": 17,
     "metadata": {},
     "output_type": "execute_result"
    }
   ],
   "source": [
    "with open(\"file.txt\", \"r\") as file:\n",
    "    data = file.readlines()\n",
    "    \n",
    "data"
   ]
  },
  {
   "cell_type": "code",
   "execution_count": 18,
   "id": "b4cccd88",
   "metadata": {},
   "outputs": [
    {
     "name": "stdout",
     "output_type": "stream",
     "text": [
      "['Hello,', 'How', 'are', 'you.', '', '', '', '', '']\n"
     ]
    }
   ],
   "source": [
    "for line in data:\n",
    "    word = line.split(' ')\n",
    "    print (word)\n",
    "\n",
    "# word[0]"
   ]
  },
  {
   "cell_type": "code",
   "execution_count": null,
   "id": "0d2cc319",
   "metadata": {},
   "outputs": [],
   "source": []
  },
  {
   "cell_type": "code",
   "execution_count": null,
   "id": "da5f20cc",
   "metadata": {},
   "outputs": [],
   "source": []
  },
  {
   "cell_type": "code",
   "execution_count": null,
   "id": "0970e870",
   "metadata": {},
   "outputs": [],
   "source": [
    "import os"
   ]
  },
  {
   "cell_type": "markdown",
   "id": "0dfa2ac1",
   "metadata": {},
   "source": [
    "#### Renaming"
   ]
  },
  {
   "cell_type": "markdown",
   "id": "453893e8",
   "metadata": {},
   "source": [
    "`os.rename(current_file_name, new_file_name)`"
   ]
  },
  {
   "cell_type": "code",
   "execution_count": 20,
   "id": "751b3207",
   "metadata": {},
   "outputs": [],
   "source": [
    "import os\n",
    "\n",
    "# Rename a file from test1.txt to test2.txt\n",
    "os.rename( \"test1.txt\", \"test2.txt\" )"
   ]
  },
  {
   "cell_type": "markdown",
   "id": "fccadffd",
   "metadata": {},
   "source": [
    "#### Remove\n",
    "`os.remove(file_name)`"
   ]
  },
  {
   "cell_type": "code",
   "execution_count": 22,
   "id": "44be1a9c",
   "metadata": {},
   "outputs": [],
   "source": [
    "import os\n",
    "\n",
    "# Delete file test2.txt\n",
    "os.remove(\"test2.txt\")"
   ]
  },
  {
   "cell_type": "markdown",
   "id": "776d03c4",
   "metadata": {},
   "source": [
    "#### Make directory\n",
    "`mkdir()`\n"
   ]
  },
  {
   "cell_type": "code",
   "execution_count": 23,
   "id": "7aa6ff9e",
   "metadata": {},
   "outputs": [],
   "source": [
    "import os\n",
    "\n",
    "# Create a directory \"test\"\n",
    "os.mkdir(\"test\")"
   ]
  },
  {
   "cell_type": "markdown",
   "id": "b6be14d5",
   "metadata": {},
   "source": [
    "#### Change Directory\n",
    "`chdir()`"
   ]
  },
  {
   "cell_type": "code",
   "execution_count": 27,
   "id": "a2b1fa2f",
   "metadata": {},
   "outputs": [],
   "source": [
    "import os\n",
    "\n",
    "# Changing a directory to \"/home/newdir\"\n",
    "os.chdir(\"test\")"
   ]
  },
  {
   "cell_type": "markdown",
   "id": "c28842c0",
   "metadata": {},
   "source": [
    "`getcwd()`\n",
    "* The getcwd() method displays the current working directory."
   ]
  },
  {
   "cell_type": "code",
   "execution_count": 28,
   "id": "4386435b",
   "metadata": {},
   "outputs": [
    {
     "data": {
      "text/plain": [
       "'/Users/rehanshahid/Downloads/GitHub/Data-Science-Codes/3. Inventory Management System with Files/1. Overview/test'"
      ]
     },
     "execution_count": 28,
     "metadata": {},
     "output_type": "execute_result"
    }
   ],
   "source": [
    "import os\n",
    "\n",
    "# This would give location of the current directory\n",
    "os.getcwd()"
   ]
  },
  {
   "cell_type": "markdown",
   "id": "19459212",
   "metadata": {},
   "source": [
    "`rmdir()`\n",
    "* The rmdir() method deletes the directory, which is passed as an argument in the method."
   ]
  },
  {
   "cell_type": "code",
   "execution_count": 31,
   "id": "eb077e19",
   "metadata": {},
   "outputs": [],
   "source": [
    "os.rmdir('test2')"
   ]
  },
  {
   "cell_type": "markdown",
   "id": "6c10de68",
   "metadata": {},
   "source": [
    "#### Exception Handeling\n",
    "\n",
    "` try - except`"
   ]
  },
  {
   "cell_type": "markdown",
   "id": "be1584a8",
   "metadata": {},
   "source": [
    "`try:\n",
    "   You do your operations here;\n",
    "   ......................\n",
    "except ExceptionI:\n",
    "   If there is ExceptionI, then execute this block.\n",
    "except ExceptionII:\n",
    "   If there is ExceptionII, then execute this block.\n",
    "   ......................\n",
    "else:\n",
    "   If there is no exception then execute this block. `"
   ]
  },
  {
   "cell_type": "code",
   "execution_count": null,
   "id": "1f5a3840",
   "metadata": {},
   "outputs": [],
   "source": [
    "try:\n",
    "    try:\n",
    "        try:\n",
    "            except value error:\n",
    "                task a\n",
    "            except key error \n",
    "                task b\n",
    "        \n",
    "        except:\n",
    "            except value error:\n",
    "                task a\n",
    "            except key error \n",
    "                task b\n",
    "    except:\n",
    "except"
   ]
  },
  {
   "cell_type": "code",
   "execution_count": null,
   "id": "6ab4ebae",
   "metadata": {},
   "outputs": [],
   "source": []
  },
  {
   "cell_type": "code",
   "execution_count": null,
   "id": "29bee7ff",
   "metadata": {},
   "outputs": [],
   "source": []
  },
  {
   "cell_type": "code",
   "execution_count": 32,
   "id": "edaa3ac0",
   "metadata": {},
   "outputs": [
    {
     "ename": "SyntaxError",
     "evalue": "default 'except:' must be last (<ipython-input-32-f9f5502f499c>, line 5)",
     "output_type": "error",
     "traceback": [
      "\u001b[0;36m  File \u001b[0;32m\"<ipython-input-32-f9f5502f499c>\"\u001b[0;36m, line \u001b[0;32m5\u001b[0m\n\u001b[0;31m    except:\u001b[0m\n\u001b[0m           \n^\u001b[0m\n\u001b[0;31mSyntaxError\u001b[0m\u001b[0;31m:\u001b[0m default 'except:' must be last\n"
     ]
    }
   ],
   "source": [
    "try:\n",
    "    c = a+b\n",
    "except:\n",
    "    c = a\n",
    "except:\n",
    "    c = b\n",
    "else:\n",
    "    ..."
   ]
  },
  {
   "cell_type": "code",
   "execution_count": null,
   "id": "ef9734ad",
   "metadata": {},
   "outputs": [],
   "source": []
  },
  {
   "cell_type": "code",
   "execution_count": null,
   "id": "ce7736d2",
   "metadata": {},
   "outputs": [],
   "source": []
  },
  {
   "cell_type": "code",
   "execution_count": null,
   "id": "b20a0c66",
   "metadata": {},
   "outputs": [],
   "source": []
  },
  {
   "cell_type": "code",
   "execution_count": 33,
   "id": "8aa07cef",
   "metadata": {},
   "outputs": [
    {
     "name": "stdout",
     "output_type": "stream",
     "text": [
      "Error: can't find file or read data\n"
     ]
    }
   ],
   "source": [
    "try:\n",
    "    fh = open(\"abcd\", \"r\")\n",
    "    fh.read()\n",
    "except IOError:\n",
    "    print (\"Error: can\\'t find file or read data\")\n",
    "else:\n",
    "    print (\"Written content in the file successfully\")\n",
    "    fh.close()"
   ]
  },
  {
   "cell_type": "code",
   "execution_count": null,
   "id": "1799cd24",
   "metadata": {},
   "outputs": [],
   "source": []
  },
  {
   "cell_type": "code",
   "execution_count": null,
   "id": "cccd4d13",
   "metadata": {},
   "outputs": [],
   "source": []
  },
  {
   "cell_type": "code",
   "execution_count": null,
   "id": "e045c3fa",
   "metadata": {},
   "outputs": [],
   "source": []
  },
  {
   "cell_type": "markdown",
   "id": "d9bc40d4",
   "metadata": {},
   "source": [
    "` try - finally()`\n",
    "* The finally block is a place to put any code that must execute, whether the try-block raised an exception or not."
   ]
  },
  {
   "cell_type": "markdown",
   "id": "3c0677a1",
   "metadata": {},
   "source": [
    "`try:\n",
    "   You do your operations here;\n",
    "   ......................\n",
    "   Due to any exception, this may be skipped.\n",
    "finally:\n",
    "   This would always be executed.\n",
    "   ......................`"
   ]
  },
  {
   "cell_type": "code",
   "execution_count": 35,
   "id": "a6b400e7",
   "metadata": {},
   "outputs": [
    {
     "name": "stdout",
     "output_type": "stream",
     "text": [
      "Done successfully\n"
     ]
    }
   ],
   "source": [
    "try:\n",
    "    fh = open(\"testfile\", \"w\")\n",
    "    fh.write(\"This is my test file for exception handling!!\")\n",
    "    #task 1\n",
    "finally:\n",
    "    print (\"Done successfully\")\n",
    "    #task 2"
   ]
  },
  {
   "cell_type": "code",
   "execution_count": 36,
   "id": "6fdc0558",
   "metadata": {},
   "outputs": [
    {
     "data": {
      "text/plain": [
       "'abcd'"
      ]
     },
     "execution_count": 36,
     "metadata": {},
     "output_type": "execute_result"
    }
   ],
   "source": [
    "text = 'abcd    '\n",
    "text.rstrip()"
   ]
  }
 ],
 "metadata": {
  "kernelspec": {
   "display_name": "Python 3.7.7 ('myenv')",
   "language": "python",
   "name": "python3"
  },
  "language_info": {
   "codemirror_mode": {
    "name": "ipython",
    "version": 3
   },
   "file_extension": ".py",
   "mimetype": "text/x-python",
   "name": "python",
   "nbconvert_exporter": "python",
   "pygments_lexer": "ipython3",
   "version": "3.7.7"
  },
  "vscode": {
   "interpreter": {
    "hash": "8498851fdb8f20aac0be0c513133504d41018d140b7992e21b4a91b7f62ead50"
   }
  }
 },
 "nbformat": 4,
 "nbformat_minor": 5
}
