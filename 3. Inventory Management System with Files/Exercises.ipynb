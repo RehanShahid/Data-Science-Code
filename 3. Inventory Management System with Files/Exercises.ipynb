{
 "cells": [
  {
   "cell_type": "code",
   "execution_count": 3,
   "id": "3e67526d",
   "metadata": {},
   "outputs": [
    {
     "name": "stdout",
     "output_type": "stream",
     "text": [
      "9\n"
     ]
    }
   ],
   "source": [
    "x = ['a', ['bb', ['ccc', 'ddd'], 'ee', 'ff'], 'g', ['hh', 'ii'], 'j']\n",
    "y = [1,2,3,[11,22,33,[111,222,333,[1111,2222]]]]\n",
    "\n",
    "\n",
    "x.extend(y)\n",
    "print(len(x))"
   ]
  },
  {
   "cell_type": "code",
   "execution_count": 6,
   "id": "cce94eec",
   "metadata": {},
   "outputs": [
    {
     "name": "stdout",
     "output_type": "stream",
     "text": [
      "['a', ['bb', ['ccc', 'ddd'], 'ee', 'ff'], 'g', ['hh', 'ii'], 'j', 1, 2, 3, [11, 22, 33, [111, 222, 333, [1111, 2222]]]]\n"
     ]
    }
   ],
   "source": [
    "print(x)"
   ]
  },
  {
   "cell_type": "code",
   "execution_count": null,
   "id": "5168b1cc",
   "metadata": {},
   "outputs": [],
   "source": [
    "## How will you access 222"
   ]
  },
  {
   "cell_type": "code",
   "execution_count": 13,
   "id": "56d923c8",
   "metadata": {},
   "outputs": [
    {
     "data": {
      "text/plain": [
       "222"
      ]
     },
     "execution_count": 13,
     "metadata": {},
     "output_type": "execute_result"
    }
   ],
   "source": [
    "x[8][3][1]"
   ]
  },
  {
   "cell_type": "code",
   "execution_count": null,
   "id": "2dcd0d78",
   "metadata": {},
   "outputs": [],
   "source": []
  },
  {
   "cell_type": "code",
   "execution_count": null,
   "id": "9832d3e5",
   "metadata": {},
   "outputs": [],
   "source": [
    "x = [1,2,3,[11,22,33,[111,222,333,[1111,2222]]]]\n",
    "x+= '1234'\n",
    "x.append([12,13,14])\n",
    "print(x[::-1][2])"
   ]
  },
  {
   "cell_type": "code",
   "execution_count": 18,
   "id": "b38cb9f4",
   "metadata": {},
   "outputs": [
    {
     "data": {
      "text/plain": [
       "[1,\n",
       " 2,\n",
       " 3,\n",
       " [11, 22, 33, [111, 222, 333, [1111, 2222]]],\n",
       " '1',\n",
       " '2',\n",
       " '3',\n",
       " '4',\n",
       " [12, 13, 14]]"
      ]
     },
     "execution_count": 18,
     "metadata": {},
     "output_type": "execute_result"
    }
   ],
   "source": [
    "x = [1,2,3,[11,22,33,[111,222,333,[1111,2222]]]]\n",
    "x+= '1234'\n",
    "x.append([12,13,14])\n",
    "x"
   ]
  },
  {
   "cell_type": "code",
   "execution_count": null,
   "id": "b2c81fdf",
   "metadata": {},
   "outputs": [],
   "source": []
  },
  {
   "cell_type": "code",
   "execution_count": 19,
   "id": "9e91df57",
   "metadata": {},
   "outputs": [
    {
     "name": "stdout",
     "output_type": "stream",
     "text": [
      "1234\n"
     ]
    }
   ],
   "source": [
    "x = [1,2,3,[11,22,33,[111,222,333,[1111,2222]]]]\n",
    "x+= [1234]\n",
    "x.extend([12,13,14])\n",
    "print(x[::-1][3])"
   ]
  },
  {
   "cell_type": "code",
   "execution_count": null,
   "id": "33d39cbb",
   "metadata": {},
   "outputs": [],
   "source": []
  },
  {
   "cell_type": "code",
   "execution_count": 28,
   "id": "a5f4df6b",
   "metadata": {},
   "outputs": [
    {
     "data": {
      "text/plain": [
       "{'ID': '', 'gender': 'Female', 'age': 30, 'weight': '', 'height': '5.6'}"
      ]
     },
     "execution_count": 28,
     "metadata": {},
     "output_type": "execute_result"
    }
   ],
   "source": [
    "## Dictionary\n",
    "\n",
    "d = {'ID':'',\n",
    "    'gender':'Female',\n",
    "    'age':30,\n",
    "    'weight':'',\n",
    "    'height':'5.6'\n",
    "    }\n",
    "\n",
    "d\n",
    "\n",
    "## In place of missing data, 'missing' should be replaced. "
   ]
  },
  {
   "cell_type": "code",
   "execution_count": null,
   "id": "ca02c57c",
   "metadata": {},
   "outputs": [],
   "source": [
    "enuerate = range value (index) , key"
   ]
  },
  {
   "cell_type": "code",
   "execution_count": 22,
   "id": "151125de",
   "metadata": {},
   "outputs": [
    {
     "name": "stdout",
     "output_type": "stream",
     "text": [
      "0\n",
      "ID\n",
      "1\n",
      "gender\n",
      "2\n",
      "age\n",
      "3\n",
      "weight\n",
      "4\n",
      "height\n"
     ]
    }
   ],
   "source": [
    "for index,key in enumerate(d):\n",
    "    print(key)\n",
    "    print(val)\n",
    "#     if val==\" \":\n",
    "#         d[key]==\"missing\"\n"
   ]
  },
  {
   "cell_type": "code",
   "execution_count": null,
   "id": "9e5fcc54",
   "metadata": {},
   "outputs": [],
   "source": [
    "for index,key in enumerate(d):\n",
    "    if key==\" \":\n",
    "        d[key]==\"missing\"\n"
   ]
  },
  {
   "cell_type": "code",
   "execution_count": 31,
   "id": "e43cd1e9",
   "metadata": {},
   "outputs": [],
   "source": [
    "for index,key in enumerate(d):\n",
    "    if d[key]==\"\":\n",
    "        d[key]=\"missing\"\n"
   ]
  },
  {
   "cell_type": "code",
   "execution_count": 32,
   "id": "e0bd2a13",
   "metadata": {},
   "outputs": [
    {
     "data": {
      "text/plain": [
       "{'ID': 'missing',\n",
       " 'gender': 'Female',\n",
       " 'age': 30,\n",
       " 'weight': 'missing',\n",
       " 'height': '5.6'}"
      ]
     },
     "execution_count": 32,
     "metadata": {},
     "output_type": "execute_result"
    }
   ],
   "source": [
    "d"
   ]
  },
  {
   "cell_type": "code",
   "execution_count": 26,
   "id": "4964c624",
   "metadata": {},
   "outputs": [
    {
     "name": "stdout",
     "output_type": "stream",
     "text": [
      "I\n",
      "D\n"
     ]
    },
    {
     "ename": "ValueError",
     "evalue": "too many values to unpack (expected 2)",
     "output_type": "error",
     "traceback": [
      "\u001b[1;31m---------------------------------------------------------------------------\u001b[0m",
      "\u001b[1;31mValueError\u001b[0m                                Traceback (most recent call last)",
      "\u001b[1;32m~\\AppData\\Local\\Temp/ipykernel_57040/2568054140.py\u001b[0m in \u001b[0;36m<module>\u001b[1;34m\u001b[0m\n\u001b[1;32m----> 1\u001b[1;33m \u001b[1;32mfor\u001b[0m \u001b[0mkey\u001b[0m\u001b[1;33m,\u001b[0m \u001b[0mval\u001b[0m \u001b[1;32min\u001b[0m \u001b[0md\u001b[0m\u001b[1;33m:\u001b[0m\u001b[1;33m\u001b[0m\u001b[1;33m\u001b[0m\u001b[0m\n\u001b[0m\u001b[0;32m      2\u001b[0m     \u001b[0mprint\u001b[0m\u001b[1;33m(\u001b[0m\u001b[0mkey\u001b[0m\u001b[1;33m)\u001b[0m\u001b[1;33m\u001b[0m\u001b[1;33m\u001b[0m\u001b[0m\n\u001b[0;32m      3\u001b[0m     \u001b[0mprint\u001b[0m\u001b[1;33m(\u001b[0m\u001b[0mval\u001b[0m\u001b[1;33m)\u001b[0m\u001b[1;33m\u001b[0m\u001b[1;33m\u001b[0m\u001b[0m\n",
      "\u001b[1;31mValueError\u001b[0m: too many values to unpack (expected 2)"
     ]
    }
   ],
   "source": [
    "for key,value in d.items():\n",
    "    print(key)\n",
    "    print(val)"
   ]
  },
  {
   "cell_type": "code",
   "execution_count": 24,
   "id": "1710cf4d",
   "metadata": {},
   "outputs": [],
   "source": [
    "for key,val in d.items():\n",
    "    if val=='':\n",
    "        d[key]='missing'\n"
   ]
  },
  {
   "cell_type": "code",
   "execution_count": 25,
   "id": "ac70b0f8",
   "metadata": {},
   "outputs": [
    {
     "data": {
      "text/plain": [
       "{'ID': 'missing',\n",
       " 'gender': 'Female',\n",
       " 'age': 30,\n",
       " 'weight': 'missing',\n",
       " 'height': '5.6'}"
      ]
     },
     "execution_count": 25,
     "metadata": {},
     "output_type": "execute_result"
    }
   ],
   "source": [
    "d"
   ]
  }
 ],
 "metadata": {
  "kernelspec": {
   "display_name": "Python 3 (ipykernel)",
   "language": "python",
   "name": "python3"
  },
  "language_info": {
   "codemirror_mode": {
    "name": "ipython",
    "version": 3
   },
   "file_extension": ".py",
   "mimetype": "text/x-python",
   "name": "python",
   "nbconvert_exporter": "python",
   "pygments_lexer": "ipython3",
   "version": "3.8.8"
  }
 },
 "nbformat": 4,
 "nbformat_minor": 5
}
