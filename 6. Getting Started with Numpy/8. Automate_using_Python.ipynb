{
  "cells": [
    {
      "cell_type": "code",
      "execution_count": null,
      "metadata": {
        "id": "4WZO1IbZ8j4Q"
      },
      "outputs": [],
      "source": [
        "import numpy as np"
      ]
    },
    {
      "cell_type": "code",
      "execution_count": null,
      "metadata": {
        "id": "0fq_d8z8XFux"
      },
      "outputs": [],
      "source": [
        "lst = [1,2,3,4,5,6,7,8,9,10]"
      ]
    },
    {
      "cell_type": "code",
      "execution_count": null,
      "metadata": {
        "colab": {
          "base_uri": "https://localhost:8080/"
        },
        "id": "kntNadzrXKJd",
        "outputId": "ed22449a-ce23-42d2-925a-bb97dc3ab360"
      },
      "outputs": [
        {
          "name": "stdout",
          "output_type": "stream",
          "text": [
            "6\n",
            "7\n",
            "8\n",
            "9\n",
            "10\n",
            "5\n"
          ]
        }
      ],
      "source": [
        "q = 0\n",
        "\n",
        "for i in lst:\n",
        "  if (i > 5):\n",
        "    print(i)\n",
        "    q += 1\n",
        "\n",
        "print(q)"
      ]
    },
    {
      "cell_type": "code",
      "execution_count": null,
      "metadata": {
        "id": "9lr00kTYXUnP"
      },
      "outputs": [],
      "source": [
        "lst = np.array([1,2,3,4,5,6,7,8,9,10])"
      ]
    },
    {
      "cell_type": "code",
      "execution_count": null,
      "metadata": {
        "colab": {
          "base_uri": "https://localhost:8080/"
        },
        "id": "txbhBRgVXc5Q",
        "outputId": "8606b930-91c8-481f-b3dd-77436e0abc4e"
      },
      "outputs": [
        {
          "name": "stdout",
          "output_type": "stream",
          "text": [
            "5\n",
            "[ 6  7  8  9 10]\n"
          ]
        }
      ],
      "source": [
        "print(len(lst[lst > 5]))\n",
        "print(lst[lst>5])"
      ]
    },
    {
      "cell_type": "code",
      "execution_count": null,
      "metadata": {
        "colab": {
          "base_uri": "https://localhost:8080/"
        },
        "id": "AUuamHsDXdfh",
        "outputId": "6ebd9869-77e0-4078-9827-7ae429961488"
      },
      "outputs": [
        {
          "name": "stdout",
          "output_type": "stream",
          "text": [
            "3\n",
            "[3 6 9]\n"
          ]
        }
      ],
      "source": [
        "print(len(lst[lst % 3 == 0]))\n",
        "print(lst[lst % 3 == 0])"
      ]
    }
  ],
  "metadata": {
    "colab": {
      "name": "8. Automate using Python",
      "provenance": []
    },
    "kernelspec": {
      "display_name": "Python 3.7.7 ('myenv')",
      "language": "python",
      "name": "python3"
    },
    "language_info": {
      "name": "python",
      "version": "3.7.7"
    },
    "vscode": {
      "interpreter": {
        "hash": "8498851fdb8f20aac0be0c513133504d41018d140b7992e21b4a91b7f62ead50"
      }
    }
  },
  "nbformat": 4,
  "nbformat_minor": 0
}
