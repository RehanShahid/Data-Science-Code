{
  "cells": [
    {
      "cell_type": "code",
      "execution_count": null,
      "metadata": {
        "id": "jHG6hrYecLoo"
      },
      "outputs": [],
      "source": [
        "import numpy as np"
      ]
    },
    {
      "cell_type": "code",
      "execution_count": null,
      "metadata": {
        "id": "GHEXYqw7dU60"
      },
      "outputs": [],
      "source": [
        "arr = np.array([[7,3,8,6,4], [7,2,9,8,6],[5,4,2,3,1]])"
      ]
    },
    {
      "cell_type": "code",
      "execution_count": null,
      "metadata": {
        "colab": {
          "base_uri": "https://localhost:8080/"
        },
        "id": "S-4fWLCPdeae",
        "outputId": "64bbb3d3-9ffc-4343-8ffa-fea91237e379"
      },
      "outputs": [],
      "source": [
        "arr"
      ]
    },
    {
      "cell_type": "code",
      "execution_count": null,
      "metadata": {
        "colab": {
          "base_uri": "https://localhost:8080/"
        },
        "id": "eeFiCXGMde5V",
        "outputId": "4b339efb-c88b-49aa-9c32-905abcdc890f"
      },
      "outputs": [],
      "source": [
        "np.sort(arr , axis = 1, kind = 'mergesort')"
      ]
    },
    {
      "cell_type": "code",
      "execution_count": null,
      "metadata": {
        "colab": {
          "base_uri": "https://localhost:8080/"
        },
        "id": "vVEdXTBvd9-4",
        "outputId": "4f93e69d-97fc-4671-ab01-22e85b1aeb20"
      },
      "outputs": [],
      "source": [
        "np.sort(arr , axis = 0, kind = 'mergesort')"
      ]
    },
    {
      "cell_type": "code",
      "execution_count": null,
      "metadata": {
        "colab": {
          "base_uri": "https://localhost:8080/"
        },
        "id": "A56BU0BceKzx",
        "outputId": "6dfad643-15e8-4b21-f971-cb12150c0a07"
      },
      "outputs": [],
      "source": [
        "np.sort(arr , kind = 'mergesort')"
      ]
    }
  ],
  "metadata": {
    "colab": {
      "name": "5. Array Sorting",
      "provenance": []
    },
    "kernelspec": {
      "display_name": "Python 3.7.7 ('myenv')",
      "language": "python",
      "name": "python3"
    },
    "language_info": {
      "name": "python",
      "version": "3.7.7"
    },
    "vscode": {
      "interpreter": {
        "hash": "8498851fdb8f20aac0be0c513133504d41018d140b7992e21b4a91b7f62ead50"
      }
    }
  },
  "nbformat": 4,
  "nbformat_minor": 0
}
