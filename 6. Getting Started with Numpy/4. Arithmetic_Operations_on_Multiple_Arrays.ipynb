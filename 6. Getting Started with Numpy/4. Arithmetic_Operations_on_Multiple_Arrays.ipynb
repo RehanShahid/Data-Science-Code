{
  "cells": [
    {
      "cell_type": "code",
      "execution_count": null,
      "metadata": {
        "id": "vHGHQU8V12wR"
      },
      "outputs": [],
      "source": [
        "import numpy as np"
      ]
    },
    {
      "cell_type": "code",
      "execution_count": null,
      "metadata": {
        "id": "X7tLFxGx21AR"
      },
      "outputs": [],
      "source": [
        "arr1 = np.array([[1,2,3],\n",
        "               [4,5,6],\n",
        "               [7,8,9]])\n",
        "\n",
        "arr2 = np.array([[9,8,7],\n",
        "               [6,5,4],\n",
        "               [3,2,1]])\n",
        "\n",
        "arr3 = np.array([[9,8,7,5],\n",
        "               [6,5,4,2],\n",
        "               [3,2,1,5]])"
      ]
    },
    {
      "cell_type": "code",
      "execution_count": 3,
      "metadata": {
        "colab": {
          "base_uri": "https://localhost:8080/"
        },
        "id": "f4cGELzS3DFE",
        "outputId": "afd77961-f831-40fe-8941-b5b5a02af202"
      },
      "outputs": [
        {
          "data": {
            "text/plain": [
              "array([[1, 2, 3],\n",
              "       [4, 5, 6],\n",
              "       [7, 8, 9]])"
            ]
          },
          "execution_count": 3,
          "metadata": {},
          "output_type": "execute_result"
        }
      ],
      "source": [
        "arr1"
      ]
    },
    {
      "cell_type": "code",
      "execution_count": 4,
      "metadata": {
        "colab": {
          "base_uri": "https://localhost:8080/"
        },
        "id": "A_K34X3v3Dv8",
        "outputId": "fa64696b-6512-45c0-a960-f4019b2627ca"
      },
      "outputs": [
        {
          "data": {
            "text/plain": [
              "array([[9, 8, 7],\n",
              "       [6, 5, 4],\n",
              "       [3, 2, 1]])"
            ]
          },
          "execution_count": 4,
          "metadata": {},
          "output_type": "execute_result"
        }
      ],
      "source": [
        "arr2"
      ]
    },
    {
      "cell_type": "code",
      "execution_count": 5,
      "metadata": {
        "colab": {
          "base_uri": "https://localhost:8080/"
        },
        "id": "Yx-QYTZY3E1x",
        "outputId": "87210fd3-2e8b-4d59-a172-e6103ed565c8"
      },
      "outputs": [
        {
          "data": {
            "text/plain": [
              "array([[10, 10, 10],\n",
              "       [10, 10, 10],\n",
              "       [10, 10, 10]])"
            ]
          },
          "execution_count": 5,
          "metadata": {},
          "output_type": "execute_result"
        }
      ],
      "source": [
        "arr1 + arr2"
      ]
    },
    {
      "cell_type": "code",
      "execution_count": 6,
      "metadata": {
        "colab": {
          "base_uri": "https://localhost:8080/"
        },
        "id": "49TX0fRc3IzZ",
        "outputId": "a57719b3-c3a6-4c72-9873-a50ae6599acd"
      },
      "outputs": [
        {
          "data": {
            "text/plain": [
              "array([[ 9, 16, 21],\n",
              "       [24, 25, 24],\n",
              "       [21, 16,  9]])"
            ]
          },
          "execution_count": 6,
          "metadata": {},
          "output_type": "execute_result"
        }
      ],
      "source": [
        "arr2 * arr1"
      ]
    },
    {
      "cell_type": "code",
      "execution_count": 7,
      "metadata": {
        "colab": {
          "base_uri": "https://localhost:8080/"
        },
        "id": "mNFWLEBZ3VAn",
        "outputId": "59ad9b86-9b56-4673-ba91-7fe40d3f66a7"
      },
      "outputs": [
        {
          "data": {
            "text/plain": [
              "array([[1, 2, 3],\n",
              "       [4, 5, 6],\n",
              "       [7, 8, 9]])"
            ]
          },
          "execution_count": 7,
          "metadata": {},
          "output_type": "execute_result"
        }
      ],
      "source": [
        "arr1"
      ]
    },
    {
      "cell_type": "code",
      "execution_count": 8,
      "metadata": {
        "colab": {
          "base_uri": "https://localhost:8080/"
        },
        "id": "cEkRa5Yx3wOb",
        "outputId": "5ec3013c-fd3c-4a67-ebe6-3d8e54ca8ba5"
      },
      "outputs": [
        {
          "data": {
            "text/plain": [
              "array([[9, 8, 7],\n",
              "       [6, 5, 4],\n",
              "       [3, 2, 1]])"
            ]
          },
          "execution_count": 8,
          "metadata": {},
          "output_type": "execute_result"
        }
      ],
      "source": [
        "arr2"
      ]
    },
    {
      "cell_type": "code",
      "execution_count": 9,
      "metadata": {
        "colab": {
          "base_uri": "https://localhost:8080/"
        },
        "id": "zZU58GPI36N1",
        "outputId": "52d1f486-6519-4372-9261-96dd53c5d21f"
      },
      "outputs": [
        {
          "data": {
            "text/plain": [
              "30"
            ]
          },
          "execution_count": 9,
          "metadata": {},
          "output_type": "execute_result"
        }
      ],
      "source": [
        "(1*9) + (2*6) + (3*3)"
      ]
    },
    {
      "cell_type": "code",
      "execution_count": 10,
      "metadata": {
        "colab": {
          "base_uri": "https://localhost:8080/"
        },
        "id": "4SSQzX7w3w97",
        "outputId": "3a4dec39-d8c5-409b-e5dc-67dc6323aad0"
      },
      "outputs": [
        {
          "data": {
            "text/plain": [
              "array([[ 30,  24,  18],\n",
              "       [ 84,  69,  54],\n",
              "       [138, 114,  90]])"
            ]
          },
          "execution_count": 10,
          "metadata": {},
          "output_type": "execute_result"
        }
      ],
      "source": [
        "arr1.dot(arr2)"
      ]
    },
    {
      "cell_type": "code",
      "execution_count": 11,
      "metadata": {
        "colab": {
          "base_uri": "https://localhost:8080/"
        },
        "id": "7Q3bEbZe30w6",
        "outputId": "7fe5d994-9e35-4755-b13b-470f158043af"
      },
      "outputs": [
        {
          "data": {
            "text/plain": [
              "array([[ 90, 114, 138],\n",
              "       [ 54,  69,  84],\n",
              "       [ 18,  24,  30]])"
            ]
          },
          "execution_count": 11,
          "metadata": {},
          "output_type": "execute_result"
        }
      ],
      "source": [
        "arr2.dot(arr1)"
      ]
    },
    {
      "cell_type": "code",
      "execution_count": null,
      "metadata": {
        "colab": {
          "base_uri": "https://localhost:8080/"
        },
        "id": "wbMEkdbt4GFZ",
        "outputId": "c1fddc51-b200-478c-db7b-d498fa2d448a"
      },
      "outputs": [],
      "source": [
        " arr1"
      ]
    },
    {
      "cell_type": "code",
      "execution_count": 12,
      "metadata": {
        "id": "__RmQFfF4SiS"
      },
      "outputs": [],
      "source": [
        "arr = np.array([1,2,3,4,5])"
      ]
    },
    {
      "cell_type": "code",
      "execution_count": 13,
      "metadata": {
        "colab": {
          "base_uri": "https://localhost:8080/"
        },
        "id": "lvD68qXI4WKx",
        "outputId": "ee07bb88-db91-4e93-a797-0f4bfa109c33"
      },
      "outputs": [
        {
          "data": {
            "text/plain": [
              "array([1, 2, 3])"
            ]
          },
          "execution_count": 13,
          "metadata": {},
          "output_type": "execute_result"
        }
      ],
      "source": [
        "arr[:-2]"
      ]
    },
    {
      "cell_type": "code",
      "execution_count": 14,
      "metadata": {
        "colab": {
          "base_uri": "https://localhost:8080/"
        },
        "id": "VgxaAw1w4YNW",
        "outputId": "d52aef55-82ee-4f00-ea52-a0cfe49b807e"
      },
      "outputs": [
        {
          "data": {
            "text/plain": [
              "array([[1, 2, 3],\n",
              "       [4, 5, 6],\n",
              "       [7, 8, 9]])"
            ]
          },
          "execution_count": 14,
          "metadata": {},
          "output_type": "execute_result"
        }
      ],
      "source": [
        "arr1"
      ]
    },
    {
      "cell_type": "code",
      "execution_count": 15,
      "metadata": {
        "colab": {
          "base_uri": "https://localhost:8080/"
        },
        "id": "tH0jFDfk4oqu",
        "outputId": "d1ccee3a-22d1-474e-ed97-0fe7c1ea6cd1"
      },
      "outputs": [
        {
          "data": {
            "text/plain": [
              "array([[5, 6],\n",
              "       [8, 9]])"
            ]
          },
          "execution_count": 15,
          "metadata": {},
          "output_type": "execute_result"
        }
      ],
      "source": [
        "arr1[ 1: , 1 : ]"
      ]
    }
  ],
  "metadata": {
    "colab": {
      "name": "4. Arithmetic Operations on Multiple Arrays",
      "provenance": []
    },
    "kernelspec": {
      "display_name": "Python 3.7.7 ('myenv')",
      "language": "python",
      "name": "python3"
    },
    "language_info": {
      "codemirror_mode": {
        "name": "ipython",
        "version": 3
      },
      "file_extension": ".py",
      "mimetype": "text/x-python",
      "name": "python",
      "nbconvert_exporter": "python",
      "pygments_lexer": "ipython3",
      "version": "3.7.7"
    },
    "vscode": {
      "interpreter": {
        "hash": "8498851fdb8f20aac0be0c513133504d41018d140b7992e21b4a91b7f62ead50"
      }
    }
  },
  "nbformat": 4,
  "nbformat_minor": 0
}
