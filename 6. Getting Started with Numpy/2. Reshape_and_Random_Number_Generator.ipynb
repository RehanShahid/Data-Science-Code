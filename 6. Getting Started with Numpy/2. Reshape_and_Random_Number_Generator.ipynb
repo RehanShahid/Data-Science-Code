{
  "cells": [
    {
      "cell_type": "code",
      "execution_count": null,
      "metadata": {
        "id": "2Q2hY3_4t2Dh"
      },
      "outputs": [],
      "source": [
        "import numpy as np"
      ]
    },
    {
      "cell_type": "code",
      "execution_count": 2,
      "metadata": {
        "colab": {
          "base_uri": "https://localhost:8080/"
        },
        "id": "uXh8fGjsurc6",
        "outputId": "c2cce4f1-a2c9-466e-a776-4af6151ad8d1"
      },
      "outputs": [
        {
          "data": {
            "text/plain": [
              "array([[0.74765241, 0.05562228, 0.20943296],\n",
              "       [0.94191633, 0.14980621, 0.08354789],\n",
              "       [0.54990749, 0.96571213, 0.52025704]])"
            ]
          },
          "execution_count": 2,
          "metadata": {},
          "output_type": "execute_result"
        }
      ],
      "source": [
        "np.random.random((3,3))"
      ]
    },
    {
      "cell_type": "code",
      "execution_count": 3,
      "metadata": {
        "id": "L6LTqVL_u3JP"
      },
      "outputs": [],
      "source": [
        "arr = np.random.random((3,3))"
      ]
    },
    {
      "cell_type": "code",
      "execution_count": 6,
      "metadata": {
        "colab": {
          "base_uri": "https://localhost:8080/"
        },
        "id": "ychgo0-8vFX8",
        "outputId": "2f95ab26-4822-4769-ca94-e69fe448686d"
      },
      "outputs": [
        {
          "data": {
            "text/plain": [
              "array([1, 4, 7])"
            ]
          },
          "execution_count": 6,
          "metadata": {},
          "output_type": "execute_result"
        }
      ],
      "source": [
        "np.arange(1,10,3)"
      ]
    },
    {
      "cell_type": "code",
      "execution_count": 7,
      "metadata": {
        "colab": {
          "base_uri": "https://localhost:8080/"
        },
        "id": "AI_vfwwHvdYd",
        "outputId": "4ef373ed-1000-468c-a896-cfbefac00eb6"
      },
      "outputs": [
        {
          "data": {
            "text/plain": [
              "array([1.        , 1.66666667, 2.33333333, 3.        , 3.66666667,\n",
              "       4.33333333, 5.        , 5.66666667, 6.33333333, 7.        ])"
            ]
          },
          "execution_count": 7,
          "metadata": {},
          "output_type": "execute_result"
        }
      ],
      "source": [
        "np.linspace(1,7,10)"
      ]
    },
    {
      "cell_type": "code",
      "execution_count": 8,
      "metadata": {
        "id": "T_WRwsfivxQn"
      },
      "outputs": [],
      "source": [
        "arr = np.random.random((4,3))"
      ]
    },
    {
      "cell_type": "code",
      "execution_count": 9,
      "metadata": {
        "colab": {
          "base_uri": "https://localhost:8080/"
        },
        "id": "-EEVsXU6wFqz",
        "outputId": "94bbecb8-409c-4494-c617-cf0590337e69"
      },
      "outputs": [
        {
          "data": {
            "text/plain": [
              "array([[0.89153384, 0.94672854, 0.06292848],\n",
              "       [0.41611834, 0.17627764, 0.00665459],\n",
              "       [0.69017264, 0.10564531, 0.86333714],\n",
              "       [0.0609101 , 0.18393503, 0.99732811]])"
            ]
          },
          "execution_count": 9,
          "metadata": {},
          "output_type": "execute_result"
        }
      ],
      "source": [
        "arr"
      ]
    },
    {
      "cell_type": "code",
      "execution_count": 10,
      "metadata": {
        "id": "MF1IGDg_wKID"
      },
      "outputs": [],
      "source": [
        "arr = np.reshape(arr , (3,4))"
      ]
    },
    {
      "cell_type": "code",
      "execution_count": 11,
      "metadata": {
        "colab": {
          "base_uri": "https://localhost:8080/"
        },
        "id": "YFsdsjCtwSNj",
        "outputId": "585cd58a-0b7e-4afd-954b-f5ca17578259"
      },
      "outputs": [
        {
          "data": {
            "text/plain": [
              "array([[0.89153384, 0.94672854, 0.06292848, 0.41611834],\n",
              "       [0.17627764, 0.00665459, 0.69017264, 0.10564531],\n",
              "       [0.86333714, 0.0609101 , 0.18393503, 0.99732811]])"
            ]
          },
          "execution_count": 11,
          "metadata": {},
          "output_type": "execute_result"
        }
      ],
      "source": [
        "arr"
      ]
    },
    {
      "cell_type": "code",
      "execution_count": 12,
      "metadata": {
        "id": "TZxBTe6BwTkE"
      },
      "outputs": [],
      "source": [
        "arr = np.reshape(arr , (6,2))"
      ]
    },
    {
      "cell_type": "code",
      "execution_count": 13,
      "metadata": {
        "colab": {
          "base_uri": "https://localhost:8080/"
        },
        "id": "UmBJCPfQwaII",
        "outputId": "23db96a0-d92d-456b-df7c-e85ae5053f18"
      },
      "outputs": [
        {
          "data": {
            "text/plain": [
              "array([[0.89153384, 0.94672854],\n",
              "       [0.06292848, 0.41611834],\n",
              "       [0.17627764, 0.00665459],\n",
              "       [0.69017264, 0.10564531],\n",
              "       [0.86333714, 0.0609101 ],\n",
              "       [0.18393503, 0.99732811]])"
            ]
          },
          "execution_count": 13,
          "metadata": {},
          "output_type": "execute_result"
        }
      ],
      "source": [
        "arr"
      ]
    },
    {
      "cell_type": "code",
      "execution_count": null,
      "metadata": {
        "colab": {
          "base_uri": "https://localhost:8080/"
        },
        "id": "SaCV99_8wapX",
        "outputId": "03369502-7319-48ae-c3e4-f58277689584"
      },
      "outputs": [],
      "source": [
        "arr.flatten()"
      ]
    }
  ],
  "metadata": {
    "colab": {
      "name": "2. Reshape and Random Number Generator",
      "provenance": []
    },
    "kernelspec": {
      "display_name": "Python 3.7.7 ('myenv')",
      "language": "python",
      "name": "python3"
    },
    "language_info": {
      "codemirror_mode": {
        "name": "ipython",
        "version": 3
      },
      "file_extension": ".py",
      "mimetype": "text/x-python",
      "name": "python",
      "nbconvert_exporter": "python",
      "pygments_lexer": "ipython3",
      "version": "3.7.7"
    },
    "vscode": {
      "interpreter": {
        "hash": "8498851fdb8f20aac0be0c513133504d41018d140b7992e21b4a91b7f62ead50"
      }
    }
  },
  "nbformat": 4,
  "nbformat_minor": 0
}
