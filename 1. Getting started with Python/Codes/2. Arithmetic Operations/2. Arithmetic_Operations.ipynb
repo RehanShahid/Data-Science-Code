{
 "cells": [
  {
   "cell_type": "markdown",
   "metadata": {
    "id": "T5oHyiAOsg7x"
   },
   "source": [
    "**Arithmetic Operations on Strings**"
   ]
  },
  {
   "cell_type": "markdown",
   "metadata": {
    "id": "fsr0np9DsaC1"
   },
   "source": [
    "Addition"
   ]
  },
  {
   "cell_type": "code",
   "execution_count": null,
   "metadata": {
    "colab": {
     "base_uri": "https://localhost:8080/"
    },
    "id": "cjwZ4fAIpqcK",
    "outputId": "de8ea3fc-0f6a-4103-f43d-4ea03f325b82"
   },
   "outputs": [],
   "source": [
    "str1 = 'Geeksfor'\n",
    "str2 = 'Geeks'\n",
    "str3 = ' '\n",
    "print(str1 + str3 + str2)\n"
   ]
  },
  {
   "cell_type": "markdown",
   "metadata": {
    "id": "J93zMbaHsc1k"
   },
   "source": [
    "Subtraction\n"
   ]
  },
  {
   "cell_type": "code",
   "execution_count": null,
   "metadata": {
    "colab": {
     "base_uri": "https://localhost:8080/",
     "height": 200
    },
    "id": "D7rc296krSQv",
    "outputId": "b821e390-92ad-47f9-d771-a01637e3e219"
   },
   "outputs": [],
   "source": [
    "str1 = 'Geeksfor'\n",
    "str2 = 'Geeks'\n",
    "print(str1 - str2)\n"
   ]
  },
  {
   "cell_type": "markdown",
   "metadata": {
    "id": "J5BXnJDLslsF"
   },
   "source": [
    "Multiplication"
   ]
  },
  {
   "cell_type": "code",
   "execution_count": null,
   "metadata": {
    "colab": {
     "base_uri": "https://localhost:8080/",
     "height": 200
    },
    "id": "wTCGpV28rZup",
    "outputId": "e0ad27d5-df18-4d7d-b4ba-450749e025a8"
   },
   "outputs": [],
   "source": [
    "str1 = 'Geeksfor'\n",
    "str2 = 'Geeks'\n",
    "print(str1* str2)\n"
   ]
  },
  {
   "cell_type": "code",
   "execution_count": null,
   "metadata": {
    "colab": {
     "base_uri": "https://localhost:8080/"
    },
    "id": "_0g18U-GrdkK",
    "outputId": "55348480-f0be-4a88-ce8f-6ddcc4fb1ba7"
   },
   "outputs": [],
   "source": [
    "str1 = 'Geeks'\n",
    "print(str1*3)\n"
   ]
  },
  {
   "cell_type": "markdown",
   "metadata": {
    "id": "vXiZMw87spbg"
   },
   "source": [
    "**Arithmetic Operations on Numbers/integers**"
   ]
  },
  {
   "cell_type": "markdown",
   "metadata": {
    "id": "kezZ43PQsu6-"
   },
   "source": [
    "Addition"
   ]
  },
  {
   "cell_type": "code",
   "execution_count": null,
   "metadata": {
    "colab": {
     "base_uri": "https://localhost:8080/"
    },
    "id": "MUTPAbKSrfbP",
    "outputId": "a7c71734-0b43-4a62-a6e4-d440cf1747f8"
   },
   "outputs": [],
   "source": [
    "val1 = 2\n",
    "val2 = 3\n",
    "  \n",
    "# using the addition operator\n",
    "\n",
    "res = val1 + val2\n",
    "print(res)"
   ]
  },
  {
   "cell_type": "markdown",
   "metadata": {
    "id": "v3MSQGBEswe9"
   },
   "source": [
    "Subtraction"
   ]
  },
  {
   "cell_type": "code",
   "execution_count": null,
   "metadata": {
    "colab": {
     "base_uri": "https://localhost:8080/"
    },
    "id": "SV1XC986rouU",
    "outputId": "cef45e04-a1ec-45e3-98af-4812bd7742de"
   },
   "outputs": [],
   "source": [
    "val1 = 2\n",
    "val2 = 3\n",
    "  \n",
    "# using the subtraction operator\n",
    "\n",
    "res = val1 - val2\n",
    "print(res)"
   ]
  },
  {
   "cell_type": "markdown",
   "metadata": {
    "id": "hQb0CV5jsy5I"
   },
   "source": [
    "Multiplication"
   ]
  },
  {
   "cell_type": "code",
   "execution_count": null,
   "metadata": {
    "colab": {
     "base_uri": "https://localhost:8080/"
    },
    "id": "ruhayckVryT3",
    "outputId": "0a4fae6f-c980-441d-a35a-f165d6ed9e44"
   },
   "outputs": [],
   "source": [
    "val1 = 2\n",
    "val2 = 3\n",
    "  \n",
    "# using the multiplication operator\n",
    "\n",
    "res = val1 * val2\n",
    "print(res)"
   ]
  },
  {
   "cell_type": "markdown",
   "metadata": {
    "id": "kf4E9tzws0Xe"
   },
   "source": [
    "Division"
   ]
  },
  {
   "cell_type": "code",
   "execution_count": null,
   "metadata": {
    "colab": {
     "base_uri": "https://localhost:8080/"
    },
    "id": "Oh6AGVWqsG0F",
    "outputId": "652310ba-e2ff-4550-bb6b-51a822e009de"
   },
   "outputs": [],
   "source": [
    "val1 = 3\n",
    "val2 = 2\n",
    "  \n",
    "# using the division operator\n",
    "res = val1 / val2\n",
    "print(res)\n",
    "print(type(res))"
   ]
  },
  {
   "cell_type": "markdown",
   "metadata": {
    "id": "v3IugEZ_s2XE"
   },
   "source": [
    "Modulus"
   ]
  },
  {
   "cell_type": "code",
   "execution_count": null,
   "metadata": {
    "colab": {
     "base_uri": "https://localhost:8080/"
    },
    "id": "XgxeKAgQsI8j",
    "outputId": "0b60ed85-278d-412b-e9c8-c8e7374f9b5b"
   },
   "outputs": [],
   "source": [
    "val1 = 7\n",
    "val2 = 2\n",
    "  \n",
    "# using the modulus operator\n",
    "res = val1 % val2\n",
    "print(res)"
   ]
  },
  {
   "cell_type": "markdown",
   "metadata": {
    "id": "HnONGynJs3cz"
   },
   "source": [
    "Exponent"
   ]
  },
  {
   "cell_type": "code",
   "execution_count": null,
   "metadata": {
    "colab": {
     "base_uri": "https://localhost:8080/"
    },
    "id": "i-IC8MLhsMv8",
    "outputId": "353d86e1-09f2-4006-9735-0e6bbf57f136"
   },
   "outputs": [],
   "source": [
    "val1 = 2\n",
    "val2 = 3\n",
    "  \n",
    "# using the exponentiation operator\n",
    "res = val1 ** val2\n",
    "print(res)"
   ]
  },
  {
   "cell_type": "markdown",
   "metadata": {
    "id": "241IuoXns6VA"
   },
   "source": [
    "Floor division"
   ]
  },
  {
   "cell_type": "code",
   "execution_count": null,
   "metadata": {
    "colab": {
     "base_uri": "https://localhost:8080/"
    },
    "id": "2rbYPI95sP5n",
    "outputId": "f491f0b8-9382-423a-a763-f0109b0b5b3b"
   },
   "outputs": [],
   "source": [
    "val1 = 3\n",
    "val2 = 2\n",
    "  \n",
    "# using the floor division\n",
    "res = val1 // val2\n",
    "print(res)"
   ]
  },
  {
   "cell_type": "code",
   "execution_count": null,
   "metadata": {
    "id": "pHfPZOZ2sWS8"
   },
   "outputs": [],
   "source": [
    "val1 = 5\n",
    "val2 = 3\n",
    "  \n",
    "# using the floor division\n",
    "res = val1 // val2\n",
    "print(res)"
   ]
  },
  {
   "cell_type": "code",
   "execution_count": null,
   "metadata": {},
   "outputs": [],
   "source": [
    "7.2 % 3"
   ]
  },
  {
   "cell_type": "code",
   "execution_count": null,
   "metadata": {},
   "outputs": [],
   "source": []
  },
  {
   "cell_type": "code",
   "execution_count": null,
   "metadata": {},
   "outputs": [],
   "source": []
  },
  {
   "cell_type": "code",
   "execution_count": null,
   "metadata": {},
   "outputs": [],
   "source": [
    "## Comparison operators"
   ]
  },
  {
   "cell_type": "code",
   "execution_count": null,
   "metadata": {},
   "outputs": [],
   "source": [
    ">\n",
    "<\n",
    ">=\n",
    "<=\n",
    "!=  / <>\n",
    "\n"
   ]
  },
  {
   "cell_type": "code",
   "execution_count": null,
   "metadata": {},
   "outputs": [],
   "source": [
    "5 != 3"
   ]
  },
  {
   "cell_type": "code",
   "execution_count": null,
   "metadata": {},
   "outputs": [],
   "source": [
    "## Logical Operators \n",
    "\n",
    "and  & \n",
    "or  | \n",
    "not  \n",
    "\n"
   ]
  },
  {
   "cell_type": "code",
   "execution_count": null,
   "metadata": {},
   "outputs": [],
   "source": [
    "a = True\n",
    "b = False\n",
    "\n",
    "print(not b)"
   ]
  },
  {
   "cell_type": "code",
   "execution_count": null,
   "metadata": {},
   "outputs": [],
   "source": [
    "print(5 and 7)"
   ]
  },
  {
   "cell_type": "code",
   "execution_count": null,
   "metadata": {},
   "outputs": [],
   "source": []
  },
  {
   "cell_type": "code",
   "execution_count": null,
   "metadata": {},
   "outputs": [],
   "source": [
    "# assignement operator \n",
    "\n",
    " = , x = y+z\n",
    "+= , a+=b / a = a+b\n",
    "-= , a-=b / a = a-b\n",
    "*=\n",
    "/=\n",
    "%= \n",
    "//= "
   ]
  },
  {
   "cell_type": "code",
   "execution_count": null,
   "metadata": {},
   "outputs": [],
   "source": [
    "& \n",
    "~\n",
    "^\n",
    ">>\n",
    "<<"
   ]
  }
 ],
 "metadata": {
  "colab": {
   "name": "Arithmetic Operations",
   "provenance": []
  },
  "kernelspec": {
   "display_name": "Python 3.7.7 ('myenv')",
   "language": "python",
   "name": "python3"
  },
  "language_info": {
   "codemirror_mode": {
    "name": "ipython",
    "version": 3
   },
   "file_extension": ".py",
   "mimetype": "text/x-python",
   "name": "python",
   "nbconvert_exporter": "python",
   "pygments_lexer": "ipython3",
   "version": "3.7.7"
  },
  "vscode": {
   "interpreter": {
    "hash": "8498851fdb8f20aac0be0c513133504d41018d140b7992e21b4a91b7f62ead50"
   }
  }
 },
 "nbformat": 4,
 "nbformat_minor": 1
}
