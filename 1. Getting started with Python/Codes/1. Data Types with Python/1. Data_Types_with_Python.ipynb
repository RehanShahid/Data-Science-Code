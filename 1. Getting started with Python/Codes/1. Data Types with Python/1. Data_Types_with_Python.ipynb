{
 "cells": [
  {
   "cell_type": "markdown",
   "metadata": {
    "id": "QJY7h3fjth8k"
   },
   "source": [
    "Type() function"
   ]
  },
  {
   "cell_type": "code",
   "execution_count": 1,
   "metadata": {
    "colab": {
     "base_uri": "https://localhost:8080/"
    },
    "id": "fMTbY5kis_LA",
    "outputId": "0cd30a75-ddb1-4313-b89e-b64c7249bc35"
   },
   "outputs": [
    {
     "name": "stdout",
     "output_type": "stream",
     "text": [
      "Type of a:  <class 'int'>\n",
      "\n",
      "Type of b:  <class 'float'>\n",
      "\n",
      "Type of c:  <class 'complex'>\n"
     ]
    }
   ],
   "source": [
    "# Python program to \n",
    "# demonstrate numeric value\n",
    "  \n",
    "a = 5\n",
    "print(\"Type of a: \", type(a))\n",
    "  \n",
    "b = 5.0\n",
    "print(\"\\nType of b: \", type(b))\n",
    "  \n",
    "c = 2 + 4j\n",
    "print(\"\\nType of c: \", type(c))\n"
   ]
  },
  {
   "cell_type": "markdown",
   "metadata": {
    "id": "ck-qJRP8tp5e"
   },
   "source": [
    "Strings"
   ]
  },
  {
   "cell_type": "code",
   "execution_count": null,
   "metadata": {},
   "outputs": [],
   "source": [
    "''' My name is Arpit Jain '''"
   ]
  },
  {
   "cell_type": "code",
   "execution_count": 2,
   "metadata": {
    "colab": {
     "base_uri": "https://localhost:8080/"
    },
    "id": "cyBGpRc9thX7",
    "outputId": "f6951c86-42b4-45cd-8139-fc28fecee6d5"
   },
   "outputs": [
    {
     "name": "stdout",
     "output_type": "stream",
     "text": [
      "String with the use of Single Quotes: \n",
      "Welcome to the Geeks World\n",
      "\n",
      "String with the use of Double Quotes: \n",
      "I'm a Geek\n",
      "<class 'str'>\n",
      "\n",
      "String with the use of Triple Quotes: \n",
      "I'm a Geek and I live in a world of \"Geeks\"\n",
      "<class 'str'>\n",
      "\n",
      "Creating a multiline String: \n",
      "Geeks \n",
      "            For \n",
      "            Life\n"
     ]
    }
   ],
   "source": [
    "# Python Program for Creation of String \n",
    "    \n",
    "# Creating a String  with single Quotes \n",
    "String1 = 'Welcome to the Geeks World'\n",
    "print(\"String with the use of Single Quotes: \") \n",
    "print(String1) \n",
    "    \n",
    "\n",
    "# Creating a String with double Quotes \n",
    "String1 = \"I'm a Geek\"\n",
    "print(\"\\nString with the use of Double Quotes: \") \n",
    "print(String1) \n",
    "print(type(String1))\n",
    "    \n",
    "    \n",
    "# Creating a String with triple Quotes \n",
    "String1 = '''I'm a Geek and I live in a world of \"Geeks\"'''\n",
    "print(\"\\nString with the use of Triple Quotes: \") \n",
    "print(String1) \n",
    "print(type(String1))\n",
    "  \n",
    "# Creating String with triple Quotes allows multiple lines \n",
    "String1 = '''Geeks \n",
    "            For \n",
    "            Life'''\n",
    "print(\"\\nCreating a multiline String: \") \n",
    "print(String1)\n"
   ]
  },
  {
   "cell_type": "markdown",
   "metadata": {
    "id": "GNsWOfo-t2fv"
   },
   "source": [
    "Boolean"
   ]
  },
  {
   "cell_type": "code",
   "execution_count": 4,
   "metadata": {
    "colab": {
     "base_uri": "https://localhost:8080/",
     "height": 234
    },
    "id": "v1hdI687trPm",
    "outputId": "abda5730-3325-4df9-b91a-ec35651c9c9f"
   },
   "outputs": [
    {
     "name": "stdout",
     "output_type": "stream",
     "text": [
      "<class 'bool'>\n",
      "<class 'bool'>\n"
     ]
    },
    {
     "ename": "NameError",
     "evalue": "name 'true' is not defined",
     "output_type": "error",
     "traceback": [
      "\u001b[1;31m---------------------------------------------------------------------------\u001b[0m",
      "\u001b[1;31mNameError\u001b[0m                                 Traceback (most recent call last)",
      "\u001b[1;32m~\\AppData\\Local\\Temp/ipykernel_64300/878008782.py\u001b[0m in \u001b[0;36m<module>\u001b[1;34m\u001b[0m\n\u001b[0;32m      4\u001b[0m \u001b[0mprint\u001b[0m\u001b[1;33m(\u001b[0m\u001b[0mtype\u001b[0m\u001b[1;33m(\u001b[0m\u001b[1;32mFalse\u001b[0m\u001b[1;33m)\u001b[0m\u001b[1;33m)\u001b[0m\u001b[1;33m\u001b[0m\u001b[1;33m\u001b[0m\u001b[0m\n\u001b[0;32m      5\u001b[0m \u001b[1;33m\u001b[0m\u001b[0m\n\u001b[1;32m----> 6\u001b[1;33m \u001b[0mprint\u001b[0m\u001b[1;33m(\u001b[0m\u001b[0mtype\u001b[0m\u001b[1;33m(\u001b[0m\u001b[0mtrue\u001b[0m\u001b[1;33m)\u001b[0m\u001b[1;33m)\u001b[0m\u001b[1;33m\u001b[0m\u001b[1;33m\u001b[0m\u001b[0m\n\u001b[0m",
      "\u001b[1;31mNameError\u001b[0m: name 'true' is not defined"
     ]
    }
   ],
   "source": [
    "# Python program to demonstrate boolean type\n",
    "  \n",
    "print(type(True))\n",
    "print(type(False))\n",
    "  \n",
    "print(type(true))\n"
   ]
  },
  {
   "cell_type": "code",
   "execution_count": 3,
   "metadata": {
    "id": "bAc0ed_Kt4kC"
   },
   "outputs": [
    {
     "data": {
      "text/plain": [
       "True"
      ]
     },
     "execution_count": 3,
     "metadata": {},
     "output_type": "execute_result"
    }
   ],
   "source": [
    "5>4"
   ]
  },
  {
   "cell_type": "code",
   "execution_count": null,
   "metadata": {},
   "outputs": [],
   "source": [
    "### Data Structures in Python "
   ]
  },
  {
   "cell_type": "code",
   "execution_count": null,
   "metadata": {},
   "outputs": [],
   "source": []
  },
  {
   "cell_type": "code",
   "execution_count": null,
   "metadata": {},
   "outputs": [],
   "source": []
  },
  {
   "cell_type": "code",
   "execution_count": null,
   "metadata": {},
   "outputs": [],
   "source": []
  },
  {
   "cell_type": "code",
   "execution_count": null,
   "metadata": {},
   "outputs": [],
   "source": []
  },
  {
   "cell_type": "code",
   "execution_count": null,
   "metadata": {},
   "outputs": [],
   "source": []
  },
  {
   "cell_type": "code",
   "execution_count": null,
   "metadata": {},
   "outputs": [],
   "source": []
  },
  {
   "cell_type": "code",
   "execution_count": null,
   "metadata": {},
   "outputs": [],
   "source": []
  },
  {
   "cell_type": "code",
   "execution_count": null,
   "metadata": {},
   "outputs": [],
   "source": []
  },
  {
   "cell_type": "code",
   "execution_count": null,
   "metadata": {},
   "outputs": [],
   "source": [
    "{key1:value1 , key2:value2}"
   ]
  },
  {
   "cell_type": "markdown",
   "metadata": {},
   "source": [
    "`1. Lists`\n",
    "</br>\n",
    "`2. Dictionary`\n",
    "</br>\n",
    "`3. Tuple`\n",
    "</br>\n",
    "`4. Sets`\n"
   ]
  },
  {
   "cell_type": "markdown",
   "metadata": {},
   "source": [
    "`Lists`\n",
    "* Lists in Python are one of the most versatile collection object types available. \n",
    "* The other two types are dictionaries and tuples, but they are really more like variations of lists.\n",
    "</br>\n",
    "\n",
    "**Properties**\n",
    "</br>\n",
    "   * Mutable\n",
    "   * Can contain any datatype\n",
    "   * Easily accesible\n"
   ]
  },
  {
   "cell_type": "markdown",
   "metadata": {},
   "source": [
    "`Dictionary`\n",
    "* dictionaries are similar to hash or maps in other languages. \n",
    "* It consists of key value pairs. \n",
    "* The value can be accessed by a uniquekey in the dictionary.]\n",
    "</br>\n",
    "\n",
    "**Properties**\n",
    "</br>\n",
    "   * Keys are unique & immutable objects.\n",
    "</br>\n",
    "\n",
    "**Syntax**\n",
    "</br>\n",
    "`dictionary = {\"key name\": value}`\n",
    "\n",
    "</br>\n",
    "* It is very important to notice that the key must be unique and that no duplicate keys are allowed. \n",
    "* If you try to add a duplicate key, python will instead update the previous key rather than adding a duplicate key"
   ]
  },
  {
   "cell_type": "markdown",
   "metadata": {},
   "source": [
    "`Tuple`\n",
    "* Python tuples work exactly like Python lists except they are immutable, i.e. they can’t be changed in place.\n",
    "* They are normally written inside parentheses to distinguish them from lists (which use square brackets), but as you’ll see,parentheses aren’t always necessary. \n",
    "* Since tuples are immutable, their length is fixed. \n",
    "* To grow or shrink a tuple, a new tuple must be created.\n",
    "</br>\n",
    "\n",
    "**Properties**\n",
    "</br>\n",
    "   * Immutable objects.\n",
    "</br>\n",
    "\n",
    "**Syntax**\n",
    "</br>\n",
    "`tuple = (element1 ,element2 ... )`\n"
   ]
  },
  {
   "cell_type": "markdown",
   "metadata": {},
   "source": [
    "`Sets`\n",
    "* Unordered collection of unique objects.\n",
    "* Set operations such as union (|) , intersection(&), difference(-) can be applied on a set.\n",
    "* Frozen Sets are immutable i.e once created further data can’t be added to them\n",
    "* {} are used to represent a set.Objects placed inside these brackets would be treated as a set.\n",
    "\n",
    "</br>\n",
    "\n",
    "* Tuples and sets have similar behaviour. The only difference being that tuples can contain duplicate elements.\n",
    "* It is to be noted that neither tuples or sets can be sorted using python’s inbuilt sort functions, because they are unordered collections"
   ]
  },
  {
   "cell_type": "code",
   "execution_count": null,
   "metadata": {},
   "outputs": [],
   "source": [
    "(1,2,3,4,5)"
   ]
  }
 ],
 "metadata": {
  "colab": {
   "name": "Data Types with Python",
   "provenance": []
  },
  "kernelspec": {
   "display_name": "Python 3 (ipykernel)",
   "language": "python",
   "name": "python3"
  },
  "language_info": {
   "codemirror_mode": {
    "name": "ipython",
    "version": 3
   },
   "file_extension": ".py",
   "mimetype": "text/x-python",
   "name": "python",
   "nbconvert_exporter": "python",
   "pygments_lexer": "ipython3",
   "version": "3.8.8"
  }
 },
 "nbformat": 4,
 "nbformat_minor": 1
}
