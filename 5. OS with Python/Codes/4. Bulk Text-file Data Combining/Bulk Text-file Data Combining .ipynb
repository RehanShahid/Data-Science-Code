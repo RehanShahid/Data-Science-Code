{
 "cells": [
  {
   "cell_type": "code",
   "execution_count": null,
   "id": "8e3a1d6c",
   "metadata": {},
   "outputs": [],
   "source": [
    "import os"
   ]
  },
  {
   "cell_type": "code",
   "execution_count": null,
   "id": "a794b77e",
   "metadata": {},
   "outputs": [],
   "source": [
    "files = os.listdir('Files')"
   ]
  },
  {
   "cell_type": "code",
   "execution_count": null,
   "id": "5ded305d",
   "metadata": {},
   "outputs": [],
   "source": [
    "files"
   ]
  },
  {
   "cell_type": "code",
   "execution_count": null,
   "id": "04659ce8",
   "metadata": {},
   "outputs": [],
   "source": [
    "fd_write = open('Data.txt','a')\n",
    "\n",
    "for i in files:\n",
    "    if i != '.DS_Store':\n",
    "        \n",
    "        fd_read = open('Files/'+i,'r')\n",
    "             \n",
    "        fd_write.write(fd_read.read())\n",
    "        \n",
    "        fd_read.close()\n",
    "        \n",
    "fd_write.close()"
   ]
  },
  {
   "cell_type": "code",
   "execution_count": null,
   "id": "4d394034",
   "metadata": {},
   "outputs": [],
   "source": [
    "txt = ''\n",
    "\n",
    "for i in files:\n",
    "    if i != '.DS_Store':\n",
    "        \n",
    "        fd_read = open('Files/'+i,'r')\n",
    "        txt += fd_read.read()\n",
    "        fd_read.close()"
   ]
  },
  {
   "cell_type": "code",
   "execution_count": null,
   "id": "71b7b2a7",
   "metadata": {},
   "outputs": [],
   "source": [
    "txt"
   ]
  },
  {
   "cell_type": "code",
   "execution_count": null,
   "id": "e4b350ea",
   "metadata": {},
   "outputs": [],
   "source": [
    "type(txt)"
   ]
  },
  {
   "cell_type": "code",
   "execution_count": null,
   "id": "18f745c9",
   "metadata": {},
   "outputs": [],
   "source": [
    "fd_write = open('Data1.txt','a')\n",
    "\n",
    "fd_write.write(txt)\n",
    "\n",
    "fd_write.close()"
   ]
  },
  {
   "cell_type": "code",
   "execution_count": null,
   "id": "69014a0e",
   "metadata": {},
   "outputs": [],
   "source": [
    "uint 8\n",
    "-12800 to 12800\n",
    "\n",
    "200"
   ]
  }
 ],
 "metadata": {
  "kernelspec": {
   "display_name": "Python 3.7.7 ('myenv')",
   "language": "python",
   "name": "python3"
  },
  "language_info": {
   "codemirror_mode": {
    "name": "ipython",
    "version": 3
   },
   "file_extension": ".py",
   "mimetype": "text/x-python",
   "name": "python",
   "nbconvert_exporter": "python",
   "pygments_lexer": "ipython3",
   "version": "3.7.7"
  },
  "vscode": {
   "interpreter": {
    "hash": "8498851fdb8f20aac0be0c513133504d41018d140b7992e21b4a91b7f62ead50"
   }
  }
 },
 "nbformat": 4,
 "nbformat_minor": 5
}
