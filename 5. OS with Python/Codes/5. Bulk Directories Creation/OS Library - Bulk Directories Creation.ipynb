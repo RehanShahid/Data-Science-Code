{
 "cells": [
  {
   "cell_type": "code",
   "execution_count": 1,
   "id": "8e3a1d6c",
   "metadata": {},
   "outputs": [],
   "source": [
    "import os"
   ]
  },
  {
   "cell_type": "code",
   "execution_count": 2,
   "id": "ccf59ee6",
   "metadata": {},
   "outputs": [
    {
     "name": "stdout",
     "output_type": "stream",
     "text": [
      "GFG1/GFG1 1\n",
      "GFG1/GFG1 2\n",
      "GFG1/GFG1 3\n",
      "GFG1/GFG1 4\n",
      "GFG1/GFG1 5\n",
      "GFG1/GFG1 6\n",
      "GFG1/GFG1 7\n",
      "GFG1/GFG1 8\n",
      "GFG1/GFG1 9\n",
      "GFG1/GFG1 10\n"
     ]
    }
   ],
   "source": [
    "n = 'GFG1'\n",
    "\n",
    "os.mkdir(n)\n",
    "\n",
    "for i in range(10):\n",
    "    \n",
    "    name = n +'/'+ n + \" \" + str(i+1)\n",
    "    print(name)\n",
    "    os.mkdir(name)"
   ]
  }
 ],
 "metadata": {
  "kernelspec": {
   "display_name": "Python 3.7.7 ('myenv')",
   "language": "python",
   "name": "python3"
  },
  "language_info": {
   "codemirror_mode": {
    "name": "ipython",
    "version": 3
   },
   "file_extension": ".py",
   "mimetype": "text/x-python",
   "name": "python",
   "nbconvert_exporter": "python",
   "pygments_lexer": "ipython3",
   "version": "3.7.7"
  },
  "vscode": {
   "interpreter": {
    "hash": "8498851fdb8f20aac0be0c513133504d41018d140b7992e21b4a91b7f62ead50"
   }
  }
 },
 "nbformat": 4,
 "nbformat_minor": 5
}
