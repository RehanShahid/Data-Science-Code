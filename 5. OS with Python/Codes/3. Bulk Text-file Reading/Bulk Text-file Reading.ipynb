{
 "cells": [
  {
   "cell_type": "code",
   "execution_count": null,
   "id": "8e3a1d6c",
   "metadata": {},
   "outputs": [],
   "source": [
    "import os"
   ]
  },
  {
   "cell_type": "code",
   "execution_count": null,
   "id": "9ada344c",
   "metadata": {},
   "outputs": [],
   "source": [
    "os.listdir('Files')"
   ]
  },
  {
   "cell_type": "code",
   "execution_count": null,
   "id": "a794b77e",
   "metadata": {},
   "outputs": [],
   "source": [
    "files = os.listdir('Files')"
   ]
  },
  {
   "cell_type": "code",
   "execution_count": null,
   "id": "c8fd46bc",
   "metadata": {},
   "outputs": [],
   "source": [
    "os.getcwd()"
   ]
  },
  {
   "cell_type": "code",
   "execution_count": null,
   "id": "f1e84a8c",
   "metadata": {},
   "outputs": [],
   "source": [
    "for i in files:\n",
    "    if i != '.DS_Store':\n",
    "        \n",
    "        fd = open(i,'r')\n",
    "        print(i, fd.read())\n",
    "        fd.close()"
   ]
  },
  {
   "cell_type": "code",
   "execution_count": null,
   "id": "01d70634",
   "metadata": {},
   "outputs": [],
   "source": [
    "for i in files:\n",
    "    print('Files/'+i)"
   ]
  },
  {
   "cell_type": "code",
   "execution_count": null,
   "id": "04659ce8",
   "metadata": {},
   "outputs": [],
   "source": [
    "for i in files:\n",
    "    if i != '.DS_Store':\n",
    "        \n",
    "        fd = open('Files/'+i,'r')\n",
    "        print('Files/'+i, fd.read())\n",
    "        fd.close()"
   ]
  }
 ],
 "metadata": {
  "kernelspec": {
   "display_name": "Python 3.7.7 ('myenv')",
   "language": "python",
   "name": "python3"
  },
  "language_info": {
   "codemirror_mode": {
    "name": "ipython",
    "version": 3
   },
   "file_extension": ".py",
   "mimetype": "text/x-python",
   "name": "python",
   "nbconvert_exporter": "python",
   "pygments_lexer": "ipython3",
   "version": "3.7.7"
  },
  "vscode": {
   "interpreter": {
    "hash": "8498851fdb8f20aac0be0c513133504d41018d140b7992e21b4a91b7f62ead50"
   }
  }
 },
 "nbformat": 4,
 "nbformat_minor": 5
}
