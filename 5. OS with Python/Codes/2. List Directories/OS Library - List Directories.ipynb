{
 "cells": [
  {
   "cell_type": "code",
   "execution_count": null,
   "id": "63174199",
   "metadata": {},
   "outputs": [],
   "source": [
    "import os"
   ]
  },
  {
   "cell_type": "code",
   "execution_count": null,
   "id": "b04e2757",
   "metadata": {},
   "outputs": [],
   "source": [
    "os.getcwd()"
   ]
  },
  {
   "cell_type": "code",
   "execution_count": null,
   "id": "20af4dd9",
   "metadata": {},
   "outputs": [],
   "source": [
    "for i in os.listdir('Imgs'):\n",
    "    if i != '.ipynb_checkpoints':\n",
    "        print(i)\n",
    "    "
   ]
  },
  {
   "cell_type": "code",
   "execution_count": null,
   "id": "e9eb6b6b",
   "metadata": {},
   "outputs": [],
   "source": [
    "for i in os.listdir('Imgs'):\n",
    "    if i != '.DS_Store':\n",
    "        print(i)"
   ]
  },
  {
   "cell_type": "code",
   "execution_count": null,
   "id": "6ba14d42",
   "metadata": {},
   "outputs": [],
   "source": [
    "!touch fle.txt"
   ]
  },
  {
   "cell_type": "code",
   "execution_count": null,
   "id": "08f70797",
   "metadata": {},
   "outputs": [],
   "source": [
    "!ls"
   ]
  },
  {
   "cell_type": "code",
   "execution_count": null,
   "id": "6d6ad931",
   "metadata": {},
   "outputs": [],
   "source": [
    "os.rename('fle.txt','File.txt')"
   ]
  },
  {
   "cell_type": "code",
   "execution_count": null,
   "id": "c8b77f1a",
   "metadata": {},
   "outputs": [],
   "source": [
    "os.remove('File.txt')"
   ]
  },
  {
   "cell_type": "code",
   "execution_count": null,
   "id": "8113e9c4",
   "metadata": {},
   "outputs": [],
   "source": [
    "if os.path.exists(\"Imgs/G\"):\n",
    "    print(\"Folder Already Exists!\")\n",
    "else:\n",
    "    os.mkdir('Imgs/G')"
   ]
  },
  {
   "cell_type": "code",
   "execution_count": null,
   "id": "eac4ded9",
   "metadata": {},
   "outputs": [],
   "source": [
    "os.path.getsize('Imgs')"
   ]
  },
  {
   "cell_type": "code",
   "execution_count": null,
   "id": "f1f27dbd",
   "metadata": {},
   "outputs": [],
   "source": []
  }
 ],
 "metadata": {
  "kernelspec": {
   "display_name": "Python 3.7.7 ('myenv')",
   "language": "python",
   "name": "python3"
  },
  "language_info": {
   "codemirror_mode": {
    "name": "ipython",
    "version": 3
   },
   "file_extension": ".py",
   "mimetype": "text/x-python",
   "name": "python",
   "nbconvert_exporter": "python",
   "pygments_lexer": "ipython3",
   "version": "3.7.7"
  },
  "vscode": {
   "interpreter": {
    "hash": "8498851fdb8f20aac0be0c513133504d41018d140b7992e21b4a91b7f62ead50"
   }
  }
 },
 "nbformat": 4,
 "nbformat_minor": 5
}
