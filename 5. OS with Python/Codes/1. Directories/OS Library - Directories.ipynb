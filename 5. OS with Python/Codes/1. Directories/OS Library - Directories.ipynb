{
 "cells": [
  {
   "cell_type": "code",
   "execution_count": 1,
   "id": "ce8750e5",
   "metadata": {},
   "outputs": [],
   "source": [
    "import os"
   ]
  },
  {
   "cell_type": "code",
   "execution_count": 2,
   "id": "efc5f034",
   "metadata": {},
   "outputs": [
    {
     "data": {
      "text/plain": [
       "'/Users/rehanshahid/Downloads/GitHub/Data-Science-Codes/5. OS with Python/Codes/1. Directories'"
      ]
     },
     "execution_count": 2,
     "metadata": {},
     "output_type": "execute_result"
    }
   ],
   "source": [
    "os.getcwd()"
   ]
  },
  {
   "cell_type": "code",
   "execution_count": 5,
   "id": "24a362d9",
   "metadata": {},
   "outputs": [],
   "source": [
    "os.chdir(\"Imgs\")"
   ]
  },
  {
   "cell_type": "code",
   "execution_count": 6,
   "id": "a2557553",
   "metadata": {},
   "outputs": [
    {
     "data": {
      "text/plain": [
       "'/Users/rehanshahid/Downloads/GitHub/Data-Science-Codes/5. OS with Python/Codes/1. Directories/Imgs'"
      ]
     },
     "execution_count": 6,
     "metadata": {},
     "output_type": "execute_result"
    }
   ],
   "source": [
    "os.getcwd()"
   ]
  },
  {
   "cell_type": "code",
   "execution_count": null,
   "id": "35940258",
   "metadata": {},
   "outputs": [],
   "source": [
    "os.chdir(\"A\")"
   ]
  },
  {
   "cell_type": "code",
   "execution_count": null,
   "id": "2c7e1a30",
   "metadata": {},
   "outputs": [],
   "source": [
    "#os.getcwd()"
   ]
  },
  {
   "cell_type": "code",
   "execution_count": 7,
   "id": "661f2e94",
   "metadata": {},
   "outputs": [],
   "source": [
    "os.chdir(\"../\")"
   ]
  },
  {
   "cell_type": "code",
   "execution_count": 8,
   "id": "0373f646",
   "metadata": {},
   "outputs": [
    {
     "data": {
      "text/plain": [
       "'/Users/rehanshahid/Downloads/GitHub/Data-Science-Codes/5. OS with Python/Codes/1. Directories'"
      ]
     },
     "execution_count": 8,
     "metadata": {},
     "output_type": "execute_result"
    }
   ],
   "source": [
    "os.getcwd()"
   ]
  },
  {
   "cell_type": "code",
   "execution_count": 9,
   "id": "b5e87e51",
   "metadata": {},
   "outputs": [
    {
     "name": "stdout",
     "output_type": "stream",
     "text": [
      "\u001b[34mImgs\u001b[m\u001b[m/                           OS Library - Directories.ipynb\n"
     ]
    }
   ],
   "source": [
    "ls"
   ]
  },
  {
   "cell_type": "code",
   "execution_count": 10,
   "id": "b2fe87cc",
   "metadata": {},
   "outputs": [],
   "source": [
    "os.mkdir(\"GFG_New\")"
   ]
  },
  {
   "cell_type": "code",
   "execution_count": 11,
   "id": "6d227a42",
   "metadata": {},
   "outputs": [],
   "source": [
    "os.makedirs(\"GFG_Very_new/GFG/GFG/GFG\")"
   ]
  },
  {
   "cell_type": "code",
   "execution_count": 12,
   "id": "9faaf398",
   "metadata": {},
   "outputs": [
    {
     "data": {
      "text/plain": [
       "'GFG/GFG'"
      ]
     },
     "execution_count": 12,
     "metadata": {},
     "output_type": "execute_result"
    }
   ],
   "source": [
    "a = 'GFG'\n",
    "b = 'GFG'\n",
    "\n",
    "\n",
    "a+\"/\"+b"
   ]
  },
  {
   "cell_type": "code",
   "execution_count": 13,
   "id": "c5345cea",
   "metadata": {},
   "outputs": [
    {
     "data": {
      "text/plain": [
       "'GFG/GFG'"
      ]
     },
     "execution_count": 13,
     "metadata": {},
     "output_type": "execute_result"
    }
   ],
   "source": [
    "os.path.join(\"GFG\",\"GFG\")"
   ]
  },
  {
   "cell_type": "code",
   "execution_count": null,
   "id": "7e181e56",
   "metadata": {},
   "outputs": [],
   "source": []
  }
 ],
 "metadata": {
  "kernelspec": {
   "display_name": "Python 3.7.7 ('myenv')",
   "language": "python",
   "name": "python3"
  },
  "language_info": {
   "codemirror_mode": {
    "name": "ipython",
    "version": 3
   },
   "file_extension": ".py",
   "mimetype": "text/x-python",
   "name": "python",
   "nbconvert_exporter": "python",
   "pygments_lexer": "ipython3",
   "version": "3.7.7"
  },
  "vscode": {
   "interpreter": {
    "hash": "8498851fdb8f20aac0be0c513133504d41018d140b7992e21b4a91b7f62ead50"
   }
  }
 },
 "nbformat": 4,
 "nbformat_minor": 5
}
