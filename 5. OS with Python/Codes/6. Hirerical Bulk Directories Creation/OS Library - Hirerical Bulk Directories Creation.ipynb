{
 "cells": [
  {
   "cell_type": "code",
   "execution_count": null,
   "id": "8e3a1d6c",
   "metadata": {},
   "outputs": [],
   "source": [
    "import os"
   ]
  },
  {
   "cell_type": "code",
   "execution_count": null,
   "id": "e9bfe6a5",
   "metadata": {},
   "outputs": [],
   "source": [
    "master = 'GFG'\n",
    "\n",
    "os.mkdir(master)\n",
    "\n",
    "n = 5\n",
    "m = 5\n",
    "\n",
    "for i in range(n):\n",
    "    \n",
    "    name = master +'/'+ master + \" \" + str(i+1)\n",
    "    os.mkdir(name)\n",
    "    \n",
    "    for j in range(m):\n",
    "        name = master +'/'+ master + \" \" + str(i+1) +\"/\"+ master + \" \" + str(j+1) \n",
    "        os.mkdir(name)\n",
    "       \n",
    "        \n",
    "print(n*m + n + 1)"
   ]
  },
  {
   "cell_type": "code",
   "execution_count": null,
   "id": "622a4fd1",
   "metadata": {},
   "outputs": [],
   "source": [
    "!ls"
   ]
  },
  {
   "cell_type": "code",
   "execution_count": null,
   "id": "4fb0c0f3",
   "metadata": {},
   "outputs": [],
   "source": [
    "'''\n",
    "Day\n",
    "    ->Hour 1\n",
    "        ->Minute 1\n",
    "        ->Minute 2\n",
    "        ->Minute 3\n",
    "    ->GFG 2\n",
    "        ->GFG 1\n",
    "        ->GFG 2\n",
    "        ->GFG 3\n",
    "    ->GFG 3\n",
    "        ->GFG 1\n",
    "        ->GFG 2\n",
    "        ->GFG 3\n",
    "    \n",
    "'''\n",
    "Day\n",
    "    ->Hour 1\n",
    "        ->Minute 1\n",
    "        ->Minute 2\n",
    "        ->Minute 3\n",
    "    ->GFG 2\n",
    "        ->GFG 1\n",
    "        ->GFG 2\n",
    "        ->GFG 3\n",
    "    ->GFG 3\n",
    "        ->GFG 1\n",
    "        ->GFG 2\n",
    "        ->GFG 3\n",
    "        \n",
    "'''"
   ]
  }
 ],
 "metadata": {
  "kernelspec": {
   "display_name": "Python 3.7.7 ('myenv')",
   "language": "python",
   "name": "python3"
  },
  "language_info": {
   "codemirror_mode": {
    "name": "ipython",
    "version": 3
   },
   "file_extension": ".py",
   "mimetype": "text/x-python",
   "name": "python",
   "nbconvert_exporter": "python",
   "pygments_lexer": "ipython3",
   "version": "3.7.7"
  },
  "vscode": {
   "interpreter": {
    "hash": "8498851fdb8f20aac0be0c513133504d41018d140b7992e21b4a91b7f62ead50"
   }
  }
 },
 "nbformat": 4,
 "nbformat_minor": 5
}
